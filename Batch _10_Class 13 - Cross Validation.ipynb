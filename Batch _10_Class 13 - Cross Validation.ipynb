{
 "cells": [
  {
   "cell_type": "code",
   "execution_count": 1,
   "id": "342bf10e",
   "metadata": {},
   "outputs": [],
   "source": [
    "#import libraries \n",
    "import pandas as pd \n",
    "import numpy as np \n",
    "import seaborn as sns \n",
    "import matplotlib.pyplot as plt "
   ]
  },
  {
   "cell_type": "code",
   "execution_count": 2,
   "id": "55d6dc10",
   "metadata": {},
   "outputs": [],
   "source": [
    "df = pd.read_csv('Phishing Data.csv') #import data set "
   ]
  },
  {
   "cell_type": "code",
   "execution_count": 3,
   "id": "3ba601da",
   "metadata": {},
   "outputs": [],
   "source": [
    "df2 = df.copy()"
   ]
  },
  {
   "cell_type": "code",
   "execution_count": 4,
   "id": "c590e1cd",
   "metadata": {},
   "outputs": [],
   "source": [
    "df3 = df.copy()"
   ]
  },
  {
   "cell_type": "code",
   "execution_count": 5,
   "id": "ed9848e5",
   "metadata": {},
   "outputs": [
    {
     "data": {
      "text/html": [
       "<div>\n",
       "<style scoped>\n",
       "    .dataframe tbody tr th:only-of-type {\n",
       "        vertical-align: middle;\n",
       "    }\n",
       "\n",
       "    .dataframe tbody tr th {\n",
       "        vertical-align: top;\n",
       "    }\n",
       "\n",
       "    .dataframe thead th {\n",
       "        text-align: right;\n",
       "    }\n",
       "</style>\n",
       "<table border=\"1\" class=\"dataframe\">\n",
       "  <thead>\n",
       "    <tr style=\"text-align: right;\">\n",
       "      <th></th>\n",
       "      <th>Total Number of Characters C</th>\n",
       "      <th>Vocabulary richness W/C</th>\n",
       "      <th>Account</th>\n",
       "      <th>Access</th>\n",
       "      <th>Bank</th>\n",
       "      <th>Credit</th>\n",
       "      <th>Click</th>\n",
       "      <th>Identity</th>\n",
       "      <th>Inconvenience</th>\n",
       "      <th>Information</th>\n",
       "      <th>...</th>\n",
       "      <th>Password</th>\n",
       "      <th>Recently</th>\n",
       "      <th>Risk</th>\n",
       "      <th>Social</th>\n",
       "      <th>Security</th>\n",
       "      <th>Service</th>\n",
       "      <th>Suspended</th>\n",
       "      <th>Total number of Function words/W</th>\n",
       "      <th>Unique Words</th>\n",
       "      <th>Phishing Status</th>\n",
       "    </tr>\n",
       "  </thead>\n",
       "  <tbody>\n",
       "    <tr>\n",
       "      <th>0</th>\n",
       "      <td>1673</td>\n",
       "      <td>0.128512</td>\n",
       "      <td>2</td>\n",
       "      <td>0</td>\n",
       "      <td>0</td>\n",
       "      <td>0</td>\n",
       "      <td>1</td>\n",
       "      <td>0</td>\n",
       "      <td>0</td>\n",
       "      <td>1</td>\n",
       "      <td>...</td>\n",
       "      <td>1</td>\n",
       "      <td>1</td>\n",
       "      <td>0</td>\n",
       "      <td>0</td>\n",
       "      <td>0</td>\n",
       "      <td>0</td>\n",
       "      <td>0</td>\n",
       "      <td>0.027907</td>\n",
       "      <td>132</td>\n",
       "      <td>1</td>\n",
       "    </tr>\n",
       "    <tr>\n",
       "      <th>1</th>\n",
       "      <td>4465</td>\n",
       "      <td>0.137738</td>\n",
       "      <td>0</td>\n",
       "      <td>0</td>\n",
       "      <td>0</td>\n",
       "      <td>0</td>\n",
       "      <td>0</td>\n",
       "      <td>0</td>\n",
       "      <td>0</td>\n",
       "      <td>4</td>\n",
       "      <td>...</td>\n",
       "      <td>0</td>\n",
       "      <td>0</td>\n",
       "      <td>0</td>\n",
       "      <td>0</td>\n",
       "      <td>3</td>\n",
       "      <td>1</td>\n",
       "      <td>0</td>\n",
       "      <td>0.013008</td>\n",
       "      <td>338</td>\n",
       "      <td>1</td>\n",
       "    </tr>\n",
       "    <tr>\n",
       "      <th>2</th>\n",
       "      <td>6813</td>\n",
       "      <td>0.095993</td>\n",
       "      <td>0</td>\n",
       "      <td>0</td>\n",
       "      <td>0</td>\n",
       "      <td>2</td>\n",
       "      <td>0</td>\n",
       "      <td>0</td>\n",
       "      <td>0</td>\n",
       "      <td>2</td>\n",
       "      <td>...</td>\n",
       "      <td>0</td>\n",
       "      <td>0</td>\n",
       "      <td>0</td>\n",
       "      <td>0</td>\n",
       "      <td>0</td>\n",
       "      <td>0</td>\n",
       "      <td>0</td>\n",
       "      <td>0.006116</td>\n",
       "      <td>292</td>\n",
       "      <td>1</td>\n",
       "    </tr>\n",
       "    <tr>\n",
       "      <th>3</th>\n",
       "      <td>1518</td>\n",
       "      <td>0.109354</td>\n",
       "      <td>0</td>\n",
       "      <td>0</td>\n",
       "      <td>0</td>\n",
       "      <td>1</td>\n",
       "      <td>1</td>\n",
       "      <td>0</td>\n",
       "      <td>0</td>\n",
       "      <td>0</td>\n",
       "      <td>...</td>\n",
       "      <td>0</td>\n",
       "      <td>0</td>\n",
       "      <td>0</td>\n",
       "      <td>0</td>\n",
       "      <td>0</td>\n",
       "      <td>0</td>\n",
       "      <td>0</td>\n",
       "      <td>0.012048</td>\n",
       "      <td>102</td>\n",
       "      <td>1</td>\n",
       "    </tr>\n",
       "    <tr>\n",
       "      <th>4</th>\n",
       "      <td>1881</td>\n",
       "      <td>0.126528</td>\n",
       "      <td>7</td>\n",
       "      <td>3</td>\n",
       "      <td>0</td>\n",
       "      <td>0</td>\n",
       "      <td>0</td>\n",
       "      <td>1</td>\n",
       "      <td>0</td>\n",
       "      <td>2</td>\n",
       "      <td>...</td>\n",
       "      <td>0</td>\n",
       "      <td>0</td>\n",
       "      <td>0</td>\n",
       "      <td>0</td>\n",
       "      <td>0</td>\n",
       "      <td>0</td>\n",
       "      <td>2</td>\n",
       "      <td>0.063025</td>\n",
       "      <td>136</td>\n",
       "      <td>1</td>\n",
       "    </tr>\n",
       "  </tbody>\n",
       "</table>\n",
       "<p>5 rows × 22 columns</p>\n",
       "</div>"
      ],
      "text/plain": [
       "   Total Number of Characters C  Vocabulary richness W/C  Account  Access  \\\n",
       "0                          1673                 0.128512        2       0   \n",
       "1                          4465                 0.137738        0       0   \n",
       "2                          6813                 0.095993        0       0   \n",
       "3                          1518                 0.109354        0       0   \n",
       "4                          1881                 0.126528        7       3   \n",
       "\n",
       "   Bank  Credit  Click  Identity  Inconvenience  Information  ...  Password  \\\n",
       "0     0       0      1         0              0            1  ...         1   \n",
       "1     0       0      0         0              0            4  ...         0   \n",
       "2     0       2      0         0              0            2  ...         0   \n",
       "3     0       1      1         0              0            0  ...         0   \n",
       "4     0       0      0         1              0            2  ...         0   \n",
       "\n",
       "   Recently  Risk  Social  Security  Service  Suspended  \\\n",
       "0         1     0       0         0        0          0   \n",
       "1         0     0       0         3        1          0   \n",
       "2         0     0       0         0        0          0   \n",
       "3         0     0       0         0        0          0   \n",
       "4         0     0       0         0        0          2   \n",
       "\n",
       "   Total number of Function words/W  Unique Words  Phishing Status  \n",
       "0                          0.027907           132                1  \n",
       "1                          0.013008           338                1  \n",
       "2                          0.006116           292                1  \n",
       "3                          0.012048           102                1  \n",
       "4                          0.063025           136                1  \n",
       "\n",
       "[5 rows x 22 columns]"
      ]
     },
     "execution_count": 5,
     "metadata": {},
     "output_type": "execute_result"
    }
   ],
   "source": [
    "df.head() "
   ]
  },
  {
   "cell_type": "code",
   "execution_count": 6,
   "id": "63c77ca4",
   "metadata": {},
   "outputs": [
    {
     "data": {
      "text/plain": [
       "(525754, 22)"
      ]
     },
     "execution_count": 6,
     "metadata": {},
     "output_type": "execute_result"
    }
   ],
   "source": [
    "df.shape"
   ]
  },
  {
   "cell_type": "code",
   "execution_count": 7,
   "id": "73365167",
   "metadata": {},
   "outputs": [
    {
     "data": {
      "text/plain": [
       "Total Number of Characters C        0\n",
       "Vocabulary richness W/C             0\n",
       "Account                             0\n",
       "Access                              0\n",
       "Bank                                0\n",
       "Credit                              0\n",
       "Click                               0\n",
       "Identity                            0\n",
       "Inconvenience                       0\n",
       "Information                         0\n",
       "Limited                             0\n",
       "Minutes                             0\n",
       "Password                            0\n",
       "Recently                            0\n",
       "Risk                                0\n",
       "Social                              0\n",
       "Security                            0\n",
       "Service                             0\n",
       "Suspended                           0\n",
       "Total number of Function words/W    0\n",
       "Unique Words                        0\n",
       "Phishing Status                     0\n",
       "dtype: int64"
      ]
     },
     "execution_count": 7,
     "metadata": {},
     "output_type": "execute_result"
    }
   ],
   "source": [
    "df.isnull().sum()"
   ]
  },
  {
   "cell_type": "code",
   "execution_count": 8,
   "id": "e5a99049",
   "metadata": {},
   "outputs": [
    {
     "data": {
      "text/plain": [
       "0    517402\n",
       "1      8352\n",
       "Name: Phishing Status, dtype: int64"
      ]
     },
     "execution_count": 8,
     "metadata": {},
     "output_type": "execute_result"
    }
   ],
   "source": [
    "df['Phishing Status'].value_counts()"
   ]
  },
  {
   "cell_type": "code",
   "execution_count": 9,
   "id": "d27b82cf",
   "metadata": {},
   "outputs": [
    {
     "data": {
      "text/plain": [
       "0.015885756456441604"
      ]
     },
     "execution_count": 9,
     "metadata": {},
     "output_type": "execute_result"
    }
   ],
   "source": [
    "8352/(517402+8352)"
   ]
  },
  {
   "cell_type": "code",
   "execution_count": 10,
   "id": "aa580eda",
   "metadata": {},
   "outputs": [
    {
     "name": "stderr",
     "output_type": "stream",
     "text": [
      "C:\\Users\\MY\\anaconda3\\lib\\site-packages\\seaborn\\_decorators.py:36: FutureWarning: Pass the following variable as a keyword arg: x. From version 0.12, the only valid positional argument will be `data`, and passing other arguments without an explicit keyword will result in an error or misinterpretation.\n",
      "  warnings.warn(\n"
     ]
    },
    {
     "data": {
      "text/plain": [
       "<AxesSubplot:xlabel='Phishing Status', ylabel='count'>"
      ]
     },
     "execution_count": 10,
     "metadata": {},
     "output_type": "execute_result"
    },
    {
     "data": {
      "image/png": "[encoded data removed]",
      "text/plain": [
       "<Figure size 432x288 with 1 Axes>"
      ]
     },
     "metadata": {
      "needs_background": "light"
     },
     "output_type": "display_data"
    }
   ],
   "source": [
    "sns.countplot(df['Phishing Status'],color='#2B00FF')"
   ]
  },
  {
   "cell_type": "code",
   "execution_count": 11,
   "id": "c8e221b4",
   "metadata": {},
   "outputs": [],
   "source": [
    "df = df.dropna()"
   ]
  },
  {
   "cell_type": "code",
   "execution_count": 12,
   "id": "78da99f2",
   "metadata": {},
   "outputs": [],
   "source": [
    "#drop duplicates\n",
    "df.drop_duplicates(inplace=True)"
   ]
  },
  {
   "cell_type": "code",
   "execution_count": 13,
   "id": "78618d2f",
   "metadata": {},
   "outputs": [
    {
     "data": {
      "text/plain": [
       "(451085, 22)"
      ]
     },
     "execution_count": 13,
     "metadata": {},
     "output_type": "execute_result"
    }
   ],
   "source": [
    "df.shape"
   ]
  },
  {
   "cell_type": "code",
   "execution_count": 14,
   "id": "4f26f220",
   "metadata": {},
   "outputs": [
    {
     "data": {
      "text/html": [
       "<div>\n",
       "<style scoped>\n",
       "    .dataframe tbody tr th:only-of-type {\n",
       "        vertical-align: middle;\n",
       "    }\n",
       "\n",
       "    .dataframe tbody tr th {\n",
       "        vertical-align: top;\n",
       "    }\n",
       "\n",
       "    .dataframe thead th {\n",
       "        text-align: right;\n",
       "    }\n",
       "</style>\n",
       "<table border=\"1\" class=\"dataframe\">\n",
       "  <thead>\n",
       "    <tr style=\"text-align: right;\">\n",
       "      <th></th>\n",
       "      <th>Total Number of Characters C</th>\n",
       "      <th>Vocabulary richness W/C</th>\n",
       "      <th>Account</th>\n",
       "      <th>Access</th>\n",
       "      <th>Bank</th>\n",
       "      <th>Credit</th>\n",
       "      <th>Click</th>\n",
       "      <th>Identity</th>\n",
       "      <th>Inconvenience</th>\n",
       "      <th>Information</th>\n",
       "      <th>...</th>\n",
       "      <th>Password</th>\n",
       "      <th>Recently</th>\n",
       "      <th>Risk</th>\n",
       "      <th>Social</th>\n",
       "      <th>Security</th>\n",
       "      <th>Service</th>\n",
       "      <th>Suspended</th>\n",
       "      <th>Total number of Function words/W</th>\n",
       "      <th>Unique Words</th>\n",
       "      <th>Phishing Status</th>\n",
       "    </tr>\n",
       "  </thead>\n",
       "  <tbody>\n",
       "    <tr>\n",
       "      <th>Total Number of Characters C</th>\n",
       "      <td>1.000000</td>\n",
       "      <td>-0.002116</td>\n",
       "      <td>0.083265</td>\n",
       "      <td>0.152107</td>\n",
       "      <td>0.191894</td>\n",
       "      <td>0.204276</td>\n",
       "      <td>0.060481</td>\n",
       "      <td>0.042419</td>\n",
       "      <td>0.030526</td>\n",
       "      <td>0.185307</td>\n",
       "      <td>...</td>\n",
       "      <td>0.006735</td>\n",
       "      <td>0.271126</td>\n",
       "      <td>0.135223</td>\n",
       "      <td>0.062420</td>\n",
       "      <td>0.108267</td>\n",
       "      <td>0.259593</td>\n",
       "      <td>0.099211</td>\n",
       "      <td>0.008601</td>\n",
       "      <td>0.778506</td>\n",
       "      <td>0.051091</td>\n",
       "    </tr>\n",
       "    <tr>\n",
       "      <th>Vocabulary richness W/C</th>\n",
       "      <td>-0.002116</td>\n",
       "      <td>1.000000</td>\n",
       "      <td>0.016879</td>\n",
       "      <td>0.071430</td>\n",
       "      <td>0.066452</td>\n",
       "      <td>0.084877</td>\n",
       "      <td>0.054371</td>\n",
       "      <td>0.003991</td>\n",
       "      <td>0.000312</td>\n",
       "      <td>0.115901</td>\n",
       "      <td>...</td>\n",
       "      <td>0.027050</td>\n",
       "      <td>0.100285</td>\n",
       "      <td>0.110754</td>\n",
       "      <td>0.027247</td>\n",
       "      <td>0.035346</td>\n",
       "      <td>0.113242</td>\n",
       "      <td>0.028337</td>\n",
       "      <td>0.072776</td>\n",
       "      <td>0.143075</td>\n",
       "      <td>-0.105144</td>\n",
       "    </tr>\n",
       "    <tr>\n",
       "      <th>Account</th>\n",
       "      <td>0.083265</td>\n",
       "      <td>0.016879</td>\n",
       "      <td>1.000000</td>\n",
       "      <td>0.179427</td>\n",
       "      <td>0.139401</td>\n",
       "      <td>0.080516</td>\n",
       "      <td>0.088878</td>\n",
       "      <td>0.137322</td>\n",
       "      <td>0.229636</td>\n",
       "      <td>0.127405</td>\n",
       "      <td>...</td>\n",
       "      <td>0.103202</td>\n",
       "      <td>0.122712</td>\n",
       "      <td>0.022294</td>\n",
       "      <td>0.020610</td>\n",
       "      <td>0.237170</td>\n",
       "      <td>0.076579</td>\n",
       "      <td>0.114873</td>\n",
       "      <td>0.409819</td>\n",
       "      <td>0.108540</td>\n",
       "      <td>0.497483</td>\n",
       "    </tr>\n",
       "    <tr>\n",
       "      <th>Access</th>\n",
       "      <td>0.152107</td>\n",
       "      <td>0.071430</td>\n",
       "      <td>0.179427</td>\n",
       "      <td>1.000000</td>\n",
       "      <td>0.114669</td>\n",
       "      <td>0.116968</td>\n",
       "      <td>0.096599</td>\n",
       "      <td>0.045184</td>\n",
       "      <td>0.079793</td>\n",
       "      <td>0.206722</td>\n",
       "      <td>...</td>\n",
       "      <td>0.102375</td>\n",
       "      <td>0.155169</td>\n",
       "      <td>0.085121</td>\n",
       "      <td>0.019349</td>\n",
       "      <td>0.178466</td>\n",
       "      <td>0.310509</td>\n",
       "      <td>0.056917</td>\n",
       "      <td>0.308671</td>\n",
       "      <td>0.261473</td>\n",
       "      <td>0.081013</td>\n",
       "    </tr>\n",
       "    <tr>\n",
       "      <th>Bank</th>\n",
       "      <td>0.191894</td>\n",
       "      <td>0.066452</td>\n",
       "      <td>0.139401</td>\n",
       "      <td>0.114669</td>\n",
       "      <td>1.000000</td>\n",
       "      <td>0.369442</td>\n",
       "      <td>0.027049</td>\n",
       "      <td>0.047031</td>\n",
       "      <td>0.023036</td>\n",
       "      <td>0.108247</td>\n",
       "      <td>...</td>\n",
       "      <td>0.007522</td>\n",
       "      <td>0.214060</td>\n",
       "      <td>0.202636</td>\n",
       "      <td>0.043333</td>\n",
       "      <td>0.111601</td>\n",
       "      <td>0.213697</td>\n",
       "      <td>0.065849</td>\n",
       "      <td>0.156501</td>\n",
       "      <td>0.293280</td>\n",
       "      <td>0.124631</td>\n",
       "    </tr>\n",
       "    <tr>\n",
       "      <th>Credit</th>\n",
       "      <td>0.204276</td>\n",
       "      <td>0.084877</td>\n",
       "      <td>0.080516</td>\n",
       "      <td>0.116968</td>\n",
       "      <td>0.369442</td>\n",
       "      <td>1.000000</td>\n",
       "      <td>0.023917</td>\n",
       "      <td>0.042751</td>\n",
       "      <td>0.020260</td>\n",
       "      <td>0.125355</td>\n",
       "      <td>...</td>\n",
       "      <td>-0.001671</td>\n",
       "      <td>0.187718</td>\n",
       "      <td>0.279082</td>\n",
       "      <td>0.022006</td>\n",
       "      <td>0.077355</td>\n",
       "      <td>0.243998</td>\n",
       "      <td>0.070255</td>\n",
       "      <td>0.200742</td>\n",
       "      <td>0.311056</td>\n",
       "      <td>0.012774</td>\n",
       "    </tr>\n",
       "    <tr>\n",
       "      <th>Click</th>\n",
       "      <td>0.060481</td>\n",
       "      <td>0.054371</td>\n",
       "      <td>0.088878</td>\n",
       "      <td>0.096599</td>\n",
       "      <td>0.027049</td>\n",
       "      <td>0.023917</td>\n",
       "      <td>1.000000</td>\n",
       "      <td>0.017591</td>\n",
       "      <td>0.014315</td>\n",
       "      <td>0.100119</td>\n",
       "      <td>...</td>\n",
       "      <td>0.086355</td>\n",
       "      <td>0.020944</td>\n",
       "      <td>0.033421</td>\n",
       "      <td>0.007559</td>\n",
       "      <td>0.044626</td>\n",
       "      <td>0.074350</td>\n",
       "      <td>0.024757</td>\n",
       "      <td>0.276980</td>\n",
       "      <td>0.120016</td>\n",
       "      <td>0.055107</td>\n",
       "    </tr>\n",
       "    <tr>\n",
       "      <th>Identity</th>\n",
       "      <td>0.042419</td>\n",
       "      <td>0.003991</td>\n",
       "      <td>0.137322</td>\n",
       "      <td>0.045184</td>\n",
       "      <td>0.047031</td>\n",
       "      <td>0.042751</td>\n",
       "      <td>0.017591</td>\n",
       "      <td>1.000000</td>\n",
       "      <td>0.046390</td>\n",
       "      <td>0.076662</td>\n",
       "      <td>...</td>\n",
       "      <td>0.009521</td>\n",
       "      <td>0.046700</td>\n",
       "      <td>0.007388</td>\n",
       "      <td>0.022728</td>\n",
       "      <td>0.077295</td>\n",
       "      <td>0.055467</td>\n",
       "      <td>0.031660</td>\n",
       "      <td>0.101277</td>\n",
       "      <td>0.053712</td>\n",
       "      <td>0.147700</td>\n",
       "    </tr>\n",
       "    <tr>\n",
       "      <th>Inconvenience</th>\n",
       "      <td>0.030526</td>\n",
       "      <td>0.000312</td>\n",
       "      <td>0.229636</td>\n",
       "      <td>0.079793</td>\n",
       "      <td>0.023036</td>\n",
       "      <td>0.020260</td>\n",
       "      <td>0.014315</td>\n",
       "      <td>0.046390</td>\n",
       "      <td>1.000000</td>\n",
       "      <td>0.030029</td>\n",
       "      <td>...</td>\n",
       "      <td>0.027340</td>\n",
       "      <td>0.044667</td>\n",
       "      <td>0.005357</td>\n",
       "      <td>0.001749</td>\n",
       "      <td>0.133371</td>\n",
       "      <td>0.027418</td>\n",
       "      <td>0.037234</td>\n",
       "      <td>0.146563</td>\n",
       "      <td>0.038117</td>\n",
       "      <td>0.174929</td>\n",
       "    </tr>\n",
       "    <tr>\n",
       "      <th>Information</th>\n",
       "      <td>0.185307</td>\n",
       "      <td>0.115901</td>\n",
       "      <td>0.127405</td>\n",
       "      <td>0.206722</td>\n",
       "      <td>0.108247</td>\n",
       "      <td>0.125355</td>\n",
       "      <td>0.100119</td>\n",
       "      <td>0.076662</td>\n",
       "      <td>0.030029</td>\n",
       "      <td>1.000000</td>\n",
       "      <td>...</td>\n",
       "      <td>0.037702</td>\n",
       "      <td>0.177508</td>\n",
       "      <td>0.139575</td>\n",
       "      <td>0.044645</td>\n",
       "      <td>0.150214</td>\n",
       "      <td>0.231139</td>\n",
       "      <td>0.051673</td>\n",
       "      <td>0.292002</td>\n",
       "      <td>0.303651</td>\n",
       "      <td>0.061520</td>\n",
       "    </tr>\n",
       "    <tr>\n",
       "      <th>Limited</th>\n",
       "      <td>0.246313</td>\n",
       "      <td>0.106885</td>\n",
       "      <td>0.167973</td>\n",
       "      <td>0.160009</td>\n",
       "      <td>0.252722</td>\n",
       "      <td>0.351086</td>\n",
       "      <td>0.083914</td>\n",
       "      <td>0.046888</td>\n",
       "      <td>0.080864</td>\n",
       "      <td>0.190200</td>\n",
       "      <td>...</td>\n",
       "      <td>0.017365</td>\n",
       "      <td>0.281431</td>\n",
       "      <td>0.133351</td>\n",
       "      <td>0.030336</td>\n",
       "      <td>0.122529</td>\n",
       "      <td>0.286592</td>\n",
       "      <td>0.101100</td>\n",
       "      <td>0.135955</td>\n",
       "      <td>0.371636</td>\n",
       "      <td>0.058263</td>\n",
       "    </tr>\n",
       "    <tr>\n",
       "      <th>Minutes</th>\n",
       "      <td>0.093064</td>\n",
       "      <td>0.068760</td>\n",
       "      <td>0.021175</td>\n",
       "      <td>0.073901</td>\n",
       "      <td>0.032711</td>\n",
       "      <td>0.024523</td>\n",
       "      <td>0.043377</td>\n",
       "      <td>0.007946</td>\n",
       "      <td>0.014593</td>\n",
       "      <td>0.056707</td>\n",
       "      <td>...</td>\n",
       "      <td>0.000363</td>\n",
       "      <td>0.054721</td>\n",
       "      <td>0.026294</td>\n",
       "      <td>0.011534</td>\n",
       "      <td>0.023611</td>\n",
       "      <td>0.059178</td>\n",
       "      <td>0.026900</td>\n",
       "      <td>0.100717</td>\n",
       "      <td>0.153513</td>\n",
       "      <td>0.010951</td>\n",
       "    </tr>\n",
       "    <tr>\n",
       "      <th>Password</th>\n",
       "      <td>0.006735</td>\n",
       "      <td>0.027050</td>\n",
       "      <td>0.103202</td>\n",
       "      <td>0.102375</td>\n",
       "      <td>0.007522</td>\n",
       "      <td>-0.001671</td>\n",
       "      <td>0.086355</td>\n",
       "      <td>0.009521</td>\n",
       "      <td>0.027340</td>\n",
       "      <td>0.037702</td>\n",
       "      <td>...</td>\n",
       "      <td>1.000000</td>\n",
       "      <td>0.009948</td>\n",
       "      <td>-0.001334</td>\n",
       "      <td>0.003996</td>\n",
       "      <td>0.109842</td>\n",
       "      <td>0.014693</td>\n",
       "      <td>0.008341</td>\n",
       "      <td>0.269528</td>\n",
       "      <td>0.013661</td>\n",
       "      <td>0.070248</td>\n",
       "    </tr>\n",
       "    <tr>\n",
       "      <th>Recently</th>\n",
       "      <td>0.271126</td>\n",
       "      <td>0.100285</td>\n",
       "      <td>0.122712</td>\n",
       "      <td>0.155169</td>\n",
       "      <td>0.214060</td>\n",
       "      <td>0.187718</td>\n",
       "      <td>0.020944</td>\n",
       "      <td>0.046700</td>\n",
       "      <td>0.044667</td>\n",
       "      <td>0.177508</td>\n",
       "      <td>...</td>\n",
       "      <td>0.009948</td>\n",
       "      <td>1.000000</td>\n",
       "      <td>0.124687</td>\n",
       "      <td>0.128071</td>\n",
       "      <td>0.151618</td>\n",
       "      <td>0.279959</td>\n",
       "      <td>0.085548</td>\n",
       "      <td>0.084814</td>\n",
       "      <td>0.409054</td>\n",
       "      <td>0.049945</td>\n",
       "    </tr>\n",
       "    <tr>\n",
       "      <th>Risk</th>\n",
       "      <td>0.135223</td>\n",
       "      <td>0.110754</td>\n",
       "      <td>0.022294</td>\n",
       "      <td>0.085121</td>\n",
       "      <td>0.202636</td>\n",
       "      <td>0.279082</td>\n",
       "      <td>0.033421</td>\n",
       "      <td>0.007388</td>\n",
       "      <td>0.005357</td>\n",
       "      <td>0.139575</td>\n",
       "      <td>...</td>\n",
       "      <td>-0.001334</td>\n",
       "      <td>0.124687</td>\n",
       "      <td>1.000000</td>\n",
       "      <td>0.028890</td>\n",
       "      <td>0.048787</td>\n",
       "      <td>0.112977</td>\n",
       "      <td>0.031199</td>\n",
       "      <td>0.218126</td>\n",
       "      <td>0.236722</td>\n",
       "      <td>-0.019369</td>\n",
       "    </tr>\n",
       "    <tr>\n",
       "      <th>Social</th>\n",
       "      <td>0.062420</td>\n",
       "      <td>0.027247</td>\n",
       "      <td>0.020610</td>\n",
       "      <td>0.019349</td>\n",
       "      <td>0.043333</td>\n",
       "      <td>0.022006</td>\n",
       "      <td>0.007559</td>\n",
       "      <td>0.022728</td>\n",
       "      <td>0.001749</td>\n",
       "      <td>0.044645</td>\n",
       "      <td>...</td>\n",
       "      <td>0.003996</td>\n",
       "      <td>0.128071</td>\n",
       "      <td>0.028890</td>\n",
       "      <td>1.000000</td>\n",
       "      <td>0.324573</td>\n",
       "      <td>0.055777</td>\n",
       "      <td>0.020886</td>\n",
       "      <td>0.044555</td>\n",
       "      <td>0.099018</td>\n",
       "      <td>0.006355</td>\n",
       "    </tr>\n",
       "    <tr>\n",
       "      <th>Security</th>\n",
       "      <td>0.108267</td>\n",
       "      <td>0.035346</td>\n",
       "      <td>0.237170</td>\n",
       "      <td>0.178466</td>\n",
       "      <td>0.111601</td>\n",
       "      <td>0.077355</td>\n",
       "      <td>0.044626</td>\n",
       "      <td>0.077295</td>\n",
       "      <td>0.133371</td>\n",
       "      <td>0.150214</td>\n",
       "      <td>...</td>\n",
       "      <td>0.109842</td>\n",
       "      <td>0.151618</td>\n",
       "      <td>0.048787</td>\n",
       "      <td>0.324573</td>\n",
       "      <td>1.000000</td>\n",
       "      <td>0.150242</td>\n",
       "      <td>0.056373</td>\n",
       "      <td>0.269612</td>\n",
       "      <td>0.163471</td>\n",
       "      <td>0.185545</td>\n",
       "    </tr>\n",
       "    <tr>\n",
       "      <th>Service</th>\n",
       "      <td>0.259593</td>\n",
       "      <td>0.113242</td>\n",
       "      <td>0.076579</td>\n",
       "      <td>0.310509</td>\n",
       "      <td>0.213697</td>\n",
       "      <td>0.243998</td>\n",
       "      <td>0.074350</td>\n",
       "      <td>0.055467</td>\n",
       "      <td>0.027418</td>\n",
       "      <td>0.231139</td>\n",
       "      <td>...</td>\n",
       "      <td>0.014693</td>\n",
       "      <td>0.279959</td>\n",
       "      <td>0.112977</td>\n",
       "      <td>0.055777</td>\n",
       "      <td>0.150242</td>\n",
       "      <td>1.000000</td>\n",
       "      <td>0.092223</td>\n",
       "      <td>0.156978</td>\n",
       "      <td>0.404571</td>\n",
       "      <td>0.023631</td>\n",
       "    </tr>\n",
       "    <tr>\n",
       "      <th>Suspended</th>\n",
       "      <td>0.099211</td>\n",
       "      <td>0.028337</td>\n",
       "      <td>0.114873</td>\n",
       "      <td>0.056917</td>\n",
       "      <td>0.065849</td>\n",
       "      <td>0.070255</td>\n",
       "      <td>0.024757</td>\n",
       "      <td>0.031660</td>\n",
       "      <td>0.037234</td>\n",
       "      <td>0.051673</td>\n",
       "      <td>...</td>\n",
       "      <td>0.008341</td>\n",
       "      <td>0.085548</td>\n",
       "      <td>0.031199</td>\n",
       "      <td>0.020886</td>\n",
       "      <td>0.056373</td>\n",
       "      <td>0.092223</td>\n",
       "      <td>1.000000</td>\n",
       "      <td>0.079803</td>\n",
       "      <td>0.140697</td>\n",
       "      <td>0.095063</td>\n",
       "    </tr>\n",
       "    <tr>\n",
       "      <th>Total number of Function words/W</th>\n",
       "      <td>0.008601</td>\n",
       "      <td>0.072776</td>\n",
       "      <td>0.409819</td>\n",
       "      <td>0.308671</td>\n",
       "      <td>0.156501</td>\n",
       "      <td>0.200742</td>\n",
       "      <td>0.276980</td>\n",
       "      <td>0.101277</td>\n",
       "      <td>0.146563</td>\n",
       "      <td>0.292002</td>\n",
       "      <td>...</td>\n",
       "      <td>0.269528</td>\n",
       "      <td>0.084814</td>\n",
       "      <td>0.218126</td>\n",
       "      <td>0.044555</td>\n",
       "      <td>0.269612</td>\n",
       "      <td>0.156978</td>\n",
       "      <td>0.079803</td>\n",
       "      <td>1.000000</td>\n",
       "      <td>0.025764</td>\n",
       "      <td>0.288569</td>\n",
       "    </tr>\n",
       "    <tr>\n",
       "      <th>Unique Words</th>\n",
       "      <td>0.778506</td>\n",
       "      <td>0.143075</td>\n",
       "      <td>0.108540</td>\n",
       "      <td>0.261473</td>\n",
       "      <td>0.293280</td>\n",
       "      <td>0.311056</td>\n",
       "      <td>0.120016</td>\n",
       "      <td>0.053712</td>\n",
       "      <td>0.038117</td>\n",
       "      <td>0.303651</td>\n",
       "      <td>...</td>\n",
       "      <td>0.013661</td>\n",
       "      <td>0.409054</td>\n",
       "      <td>0.236722</td>\n",
       "      <td>0.099018</td>\n",
       "      <td>0.163471</td>\n",
       "      <td>0.404571</td>\n",
       "      <td>0.140697</td>\n",
       "      <td>0.025764</td>\n",
       "      <td>1.000000</td>\n",
       "      <td>0.018325</td>\n",
       "    </tr>\n",
       "    <tr>\n",
       "      <th>Phishing Status</th>\n",
       "      <td>0.051091</td>\n",
       "      <td>-0.105144</td>\n",
       "      <td>0.497483</td>\n",
       "      <td>0.081013</td>\n",
       "      <td>0.124631</td>\n",
       "      <td>0.012774</td>\n",
       "      <td>0.055107</td>\n",
       "      <td>0.147700</td>\n",
       "      <td>0.174929</td>\n",
       "      <td>0.061520</td>\n",
       "      <td>...</td>\n",
       "      <td>0.070248</td>\n",
       "      <td>0.049945</td>\n",
       "      <td>-0.019369</td>\n",
       "      <td>0.006355</td>\n",
       "      <td>0.185545</td>\n",
       "      <td>0.023631</td>\n",
       "      <td>0.095063</td>\n",
       "      <td>0.288569</td>\n",
       "      <td>0.018325</td>\n",
       "      <td>1.000000</td>\n",
       "    </tr>\n",
       "  </tbody>\n",
       "</table>\n",
       "<p>22 rows × 22 columns</p>\n",
       "</div>"
      ],
      "text/plain": [
       "                                  Total Number of Characters C  \\\n",
       "Total Number of Characters C                          1.000000   \n",
       "Vocabulary richness W/C                              -0.002116   \n",
       "Account                                               0.083265   \n",
       "Access                                                0.152107   \n",
       "Bank                                                  0.191894   \n",
       "Credit                                                0.204276   \n",
       "Click                                                 0.060481   \n",
       "Identity                                              0.042419   \n",
       "Inconvenience                                         0.030526   \n",
       "Information                                           0.185307   \n",
       "Limited                                               0.246313   \n",
       "Minutes                                               0.093064   \n",
       "Password                                              0.006735   \n",
       "Recently                                              0.271126   \n",
       "Risk                                                  0.135223   \n",
       "Social                                                0.062420   \n",
       "Security                                              0.108267   \n",
       "Service                                               0.259593   \n",
       "Suspended                                             0.099211   \n",
       "Total number of Function words/W                      0.008601   \n",
       "Unique Words                                          0.778506   \n",
       "Phishing Status                                       0.051091   \n",
       "\n",
       "                                  Vocabulary richness W/C   Account    Access  \\\n",
       "Total Number of Characters C                    -0.002116  0.083265  0.152107   \n",
       "Vocabulary richness W/C                          1.000000  0.016879  0.071430   \n",
       "Account                                          0.016879  1.000000  0.179427   \n",
       "Access                                           0.071430  0.179427  1.000000   \n",
       "Bank                                             0.066452  0.139401  0.114669   \n",
       "Credit                                           0.084877  0.080516  0.116968   \n",
       "Click                                            0.054371  0.088878  0.096599   \n",
       "Identity                                         0.003991  0.137322  0.045184   \n",
       "Inconvenience                                    0.000312  0.229636  0.079793   \n",
       "Information                                      0.115901  0.127405  0.206722   \n",
       "Limited                                          0.106885  0.167973  0.160009   \n",
       "Minutes                                          0.068760  0.021175  0.073901   \n",
       "Password                                         0.027050  0.103202  0.102375   \n",
       "Recently                                         0.100285  0.122712  0.155169   \n",
       "Risk                                             0.110754  0.022294  0.085121   \n",
       "Social                                           0.027247  0.020610  0.019349   \n",
       "Security                                         0.035346  0.237170  0.178466   \n",
       "Service                                          0.113242  0.076579  0.310509   \n",
       "Suspended                                        0.028337  0.114873  0.056917   \n",
       "Total number of Function words/W                 0.072776  0.409819  0.308671   \n",
       "Unique Words                                     0.143075  0.108540  0.261473   \n",
       "Phishing Status                                 -0.105144  0.497483  0.081013   \n",
       "\n",
       "                                      Bank    Credit     Click  Identity  \\\n",
       "Total Number of Characters C      0.191894  0.204276  0.060481  0.042419   \n",
       "Vocabulary richness W/C           0.066452  0.084877  0.054371  0.003991   \n",
       "Account                           0.139401  0.080516  0.088878  0.137322   \n",
       "Access                            0.114669  0.116968  0.096599  0.045184   \n",
       "Bank                              1.000000  0.369442  0.027049  0.047031   \n",
       "Credit                            0.369442  1.000000  0.023917  0.042751   \n",
       "Click                             0.027049  0.023917  1.000000  0.017591   \n",
       "Identity                          0.047031  0.042751  0.017591  1.000000   \n",
       "Inconvenience                     0.023036  0.020260  0.014315  0.046390   \n",
       "Information                       0.108247  0.125355  0.100119  0.076662   \n",
       "Limited                           0.252722  0.351086  0.083914  0.046888   \n",
       "Minutes                           0.032711  0.024523  0.043377  0.007946   \n",
       "Password                          0.007522 -0.001671  0.086355  0.009521   \n",
       "Recently                          0.214060  0.187718  0.020944  0.046700   \n",
       "Risk                              0.202636  0.279082  0.033421  0.007388   \n",
       "Social                            0.043333  0.022006  0.007559  0.022728   \n",
       "Security                          0.111601  0.077355  0.044626  0.077295   \n",
       "Service                           0.213697  0.243998  0.074350  0.055467   \n",
       "Suspended                         0.065849  0.070255  0.024757  0.031660   \n",
       "Total number of Function words/W  0.156501  0.200742  0.276980  0.101277   \n",
       "Unique Words                      0.293280  0.311056  0.120016  0.053712   \n",
       "Phishing Status                   0.124631  0.012774  0.055107  0.147700   \n",
       "\n",
       "                                  Inconvenience  Information  ...  Password  \\\n",
       "Total Number of Characters C           0.030526     0.185307  ...  0.006735   \n",
       "Vocabulary richness W/C                0.000312     0.115901  ...  0.027050   \n",
       "Account                                0.229636     0.127405  ...  0.103202   \n",
       "Access                                 0.079793     0.206722  ...  0.102375   \n",
       "Bank                                   0.023036     0.108247  ...  0.007522   \n",
       "Credit                                 0.020260     0.125355  ... -0.001671   \n",
       "Click                                  0.014315     0.100119  ...  0.086355   \n",
       "Identity                               0.046390     0.076662  ...  0.009521   \n",
       "Inconvenience                          1.000000     0.030029  ...  0.027340   \n",
       "Information                            0.030029     1.000000  ...  0.037702   \n",
       "Limited                                0.080864     0.190200  ...  0.017365   \n",
       "Minutes                                0.014593     0.056707  ...  0.000363   \n",
       "Password                               0.027340     0.037702  ...  1.000000   \n",
       "Recently                               0.044667     0.177508  ...  0.009948   \n",
       "Risk                                   0.005357     0.139575  ... -0.001334   \n",
       "Social                                 0.001749     0.044645  ...  0.003996   \n",
       "Security                               0.133371     0.150214  ...  0.109842   \n",
       "Service                                0.027418     0.231139  ...  0.014693   \n",
       "Suspended                              0.037234     0.051673  ...  0.008341   \n",
       "Total number of Function words/W       0.146563     0.292002  ...  0.269528   \n",
       "Unique Words                           0.038117     0.303651  ...  0.013661   \n",
       "Phishing Status                        0.174929     0.061520  ...  0.070248   \n",
       "\n",
       "                                  Recently      Risk    Social  Security  \\\n",
       "Total Number of Characters C      0.271126  0.135223  0.062420  0.108267   \n",
       "Vocabulary richness W/C           0.100285  0.110754  0.027247  0.035346   \n",
       "Account                           0.122712  0.022294  0.020610  0.237170   \n",
       "Access                            0.155169  0.085121  0.019349  0.178466   \n",
       "Bank                              0.214060  0.202636  0.043333  0.111601   \n",
       "Credit                            0.187718  0.279082  0.022006  0.077355   \n",
       "Click                             0.020944  0.033421  0.007559  0.044626   \n",
       "Identity                          0.046700  0.007388  0.022728  0.077295   \n",
       "Inconvenience                     0.044667  0.005357  0.001749  0.133371   \n",
       "Information                       0.177508  0.139575  0.044645  0.150214   \n",
       "Limited                           0.281431  0.133351  0.030336  0.122529   \n",
       "Minutes                           0.054721  0.026294  0.011534  0.023611   \n",
       "Password                          0.009948 -0.001334  0.003996  0.109842   \n",
       "Recently                          1.000000  0.124687  0.128071  0.151618   \n",
       "Risk                              0.124687  1.000000  0.028890  0.048787   \n",
       "Social                            0.128071  0.028890  1.000000  0.324573   \n",
       "Security                          0.151618  0.048787  0.324573  1.000000   \n",
       "Service                           0.279959  0.112977  0.055777  0.150242   \n",
       "Suspended                         0.085548  0.031199  0.020886  0.056373   \n",
       "Total number of Function words/W  0.084814  0.218126  0.044555  0.269612   \n",
       "Unique Words                      0.409054  0.236722  0.099018  0.163471   \n",
       "Phishing Status                   0.049945 -0.019369  0.006355  0.185545   \n",
       "\n",
       "                                   Service  Suspended  \\\n",
       "Total Number of Characters C      0.259593   0.099211   \n",
       "Vocabulary richness W/C           0.113242   0.028337   \n",
       "Account                           0.076579   0.114873   \n",
       "Access                            0.310509   0.056917   \n",
       "Bank                              0.213697   0.065849   \n",
       "Credit                            0.243998   0.070255   \n",
       "Click                             0.074350   0.024757   \n",
       "Identity                          0.055467   0.031660   \n",
       "Inconvenience                     0.027418   0.037234   \n",
       "Information                       0.231139   0.051673   \n",
       "Limited                           0.286592   0.101100   \n",
       "Minutes                           0.059178   0.026900   \n",
       "Password                          0.014693   0.008341   \n",
       "Recently                          0.279959   0.085548   \n",
       "Risk                              0.112977   0.031199   \n",
       "Social                            0.055777   0.020886   \n",
       "Security                          0.150242   0.056373   \n",
       "Service                           1.000000   0.092223   \n",
       "Suspended                         0.092223   1.000000   \n",
       "Total number of Function words/W  0.156978   0.079803   \n",
       "Unique Words                      0.404571   0.140697   \n",
       "Phishing Status                   0.023631   0.095063   \n",
       "\n",
       "                                  Total number of Function words/W  \\\n",
       "Total Number of Characters C                              0.008601   \n",
       "Vocabulary richness W/C                                   0.072776   \n",
       "Account                                                   0.409819   \n",
       "Access                                                    0.308671   \n",
       "Bank                                                      0.156501   \n",
       "Credit                                                    0.200742   \n",
       "Click                                                     0.276980   \n",
       "Identity                                                  0.101277   \n",
       "Inconvenience                                             0.146563   \n",
       "Information                                               0.292002   \n",
       "Limited                                                   0.135955   \n",
       "Minutes                                                   0.100717   \n",
       "Password                                                  0.269528   \n",
       "Recently                                                  0.084814   \n",
       "Risk                                                      0.218126   \n",
       "Social                                                    0.044555   \n",
       "Security                                                  0.269612   \n",
       "Service                                                   0.156978   \n",
       "Suspended                                                 0.079803   \n",
       "Total number of Function words/W                          1.000000   \n",
       "Unique Words                                              0.025764   \n",
       "Phishing Status                                           0.288569   \n",
       "\n",
       "                                  Unique Words  Phishing Status  \n",
       "Total Number of Characters C          0.778506         0.051091  \n",
       "Vocabulary richness W/C               0.143075        -0.105144  \n",
       "Account                               0.108540         0.497483  \n",
       "Access                                0.261473         0.081013  \n",
       "Bank                                  0.293280         0.124631  \n",
       "Credit                                0.311056         0.012774  \n",
       "Click                                 0.120016         0.055107  \n",
       "Identity                              0.053712         0.147700  \n",
       "Inconvenience                         0.038117         0.174929  \n",
       "Information                           0.303651         0.061520  \n",
       "Limited                               0.371636         0.058263  \n",
       "Minutes                               0.153513         0.010951  \n",
       "Password                              0.013661         0.070248  \n",
       "Recently                              0.409054         0.049945  \n",
       "Risk                                  0.236722        -0.019369  \n",
       "Social                                0.099018         0.006355  \n",
       "Security                              0.163471         0.185545  \n",
       "Service                               0.404571         0.023631  \n",
       "Suspended                             0.140697         0.095063  \n",
       "Total number of Function words/W      0.025764         0.288569  \n",
       "Unique Words                          1.000000         0.018325  \n",
       "Phishing Status                       0.018325         1.000000  \n",
       "\n",
       "[22 rows x 22 columns]"
      ]
     },
     "execution_count": 14,
     "metadata": {},
     "output_type": "execute_result"
    }
   ],
   "source": [
    "df.corr()"
   ]
  },
  {
   "cell_type": "code",
   "execution_count": 15,
   "id": "09f288fd",
   "metadata": {},
   "outputs": [
    {
     "data": {
      "text/plain": [
       "<AxesSubplot:>"
      ]
     },
     "execution_count": 15,
     "metadata": {},
     "output_type": "execute_result"
    },
    {
     "data": {
      "image/png": "[encoded data removed]",
      "text/plain": [
       "<Figure size 432x288 with 2 Axes>"
      ]
     },
     "metadata": {
      "needs_background": "light"
     },
     "output_type": "display_data"
    }
   ],
   "source": [
    "sns.heatmap(df.corr() , annot=False)"
   ]
  },
  {
   "cell_type": "markdown",
   "id": "37c306c5",
   "metadata": {},
   "source": [
    "# Preprocess the dataset"
   ]
  },
  {
   "cell_type": "code",
   "execution_count": 16,
   "id": "b90db316",
   "metadata": {},
   "outputs": [
    {
     "data": {
      "text/plain": [
       "(451085, 22)"
      ]
     },
     "execution_count": 16,
     "metadata": {},
     "output_type": "execute_result"
    }
   ],
   "source": [
    "df.shape"
   ]
  },
  {
   "cell_type": "code",
   "execution_count": 17,
   "id": "45f8da10",
   "metadata": {},
   "outputs": [
    {
     "data": {
      "text/html": [
       "<div>\n",
       "<style scoped>\n",
       "    .dataframe tbody tr th:only-of-type {\n",
       "        vertical-align: middle;\n",
       "    }\n",
       "\n",
       "    .dataframe tbody tr th {\n",
       "        vertical-align: top;\n",
       "    }\n",
       "\n",
       "    .dataframe thead th {\n",
       "        text-align: right;\n",
       "    }\n",
       "</style>\n",
       "<table border=\"1\" class=\"dataframe\">\n",
       "  <thead>\n",
       "    <tr style=\"text-align: right;\">\n",
       "      <th></th>\n",
       "      <th>Total Number of Characters C</th>\n",
       "      <th>Vocabulary richness W/C</th>\n",
       "      <th>Account</th>\n",
       "      <th>Access</th>\n",
       "      <th>Bank</th>\n",
       "      <th>Credit</th>\n",
       "      <th>Click</th>\n",
       "      <th>Identity</th>\n",
       "      <th>Inconvenience</th>\n",
       "      <th>Information</th>\n",
       "      <th>...</th>\n",
       "      <th>Password</th>\n",
       "      <th>Recently</th>\n",
       "      <th>Risk</th>\n",
       "      <th>Social</th>\n",
       "      <th>Security</th>\n",
       "      <th>Service</th>\n",
       "      <th>Suspended</th>\n",
       "      <th>Total number of Function words/W</th>\n",
       "      <th>Unique Words</th>\n",
       "      <th>Phishing Status</th>\n",
       "    </tr>\n",
       "  </thead>\n",
       "  <tbody>\n",
       "    <tr>\n",
       "      <th>0</th>\n",
       "      <td>1673</td>\n",
       "      <td>0.128512</td>\n",
       "      <td>2</td>\n",
       "      <td>0</td>\n",
       "      <td>0</td>\n",
       "      <td>0</td>\n",
       "      <td>1</td>\n",
       "      <td>0</td>\n",
       "      <td>0</td>\n",
       "      <td>1</td>\n",
       "      <td>...</td>\n",
       "      <td>1</td>\n",
       "      <td>1</td>\n",
       "      <td>0</td>\n",
       "      <td>0</td>\n",
       "      <td>0</td>\n",
       "      <td>0</td>\n",
       "      <td>0</td>\n",
       "      <td>0.027907</td>\n",
       "      <td>132</td>\n",
       "      <td>1</td>\n",
       "    </tr>\n",
       "    <tr>\n",
       "      <th>1</th>\n",
       "      <td>4465</td>\n",
       "      <td>0.137738</td>\n",
       "      <td>0</td>\n",
       "      <td>0</td>\n",
       "      <td>0</td>\n",
       "      <td>0</td>\n",
       "      <td>0</td>\n",
       "      <td>0</td>\n",
       "      <td>0</td>\n",
       "      <td>4</td>\n",
       "      <td>...</td>\n",
       "      <td>0</td>\n",
       "      <td>0</td>\n",
       "      <td>0</td>\n",
       "      <td>0</td>\n",
       "      <td>3</td>\n",
       "      <td>1</td>\n",
       "      <td>0</td>\n",
       "      <td>0.013008</td>\n",
       "      <td>338</td>\n",
       "      <td>1</td>\n",
       "    </tr>\n",
       "    <tr>\n",
       "      <th>2</th>\n",
       "      <td>6813</td>\n",
       "      <td>0.095993</td>\n",
       "      <td>0</td>\n",
       "      <td>0</td>\n",
       "      <td>0</td>\n",
       "      <td>2</td>\n",
       "      <td>0</td>\n",
       "      <td>0</td>\n",
       "      <td>0</td>\n",
       "      <td>2</td>\n",
       "      <td>...</td>\n",
       "      <td>0</td>\n",
       "      <td>0</td>\n",
       "      <td>0</td>\n",
       "      <td>0</td>\n",
       "      <td>0</td>\n",
       "      <td>0</td>\n",
       "      <td>0</td>\n",
       "      <td>0.006116</td>\n",
       "      <td>292</td>\n",
       "      <td>1</td>\n",
       "    </tr>\n",
       "    <tr>\n",
       "      <th>3</th>\n",
       "      <td>1518</td>\n",
       "      <td>0.109354</td>\n",
       "      <td>0</td>\n",
       "      <td>0</td>\n",
       "      <td>0</td>\n",
       "      <td>1</td>\n",
       "      <td>1</td>\n",
       "      <td>0</td>\n",
       "      <td>0</td>\n",
       "      <td>0</td>\n",
       "      <td>...</td>\n",
       "      <td>0</td>\n",
       "      <td>0</td>\n",
       "      <td>0</td>\n",
       "      <td>0</td>\n",
       "      <td>0</td>\n",
       "      <td>0</td>\n",
       "      <td>0</td>\n",
       "      <td>0.012048</td>\n",
       "      <td>102</td>\n",
       "      <td>1</td>\n",
       "    </tr>\n",
       "    <tr>\n",
       "      <th>4</th>\n",
       "      <td>1881</td>\n",
       "      <td>0.126528</td>\n",
       "      <td>7</td>\n",
       "      <td>3</td>\n",
       "      <td>0</td>\n",
       "      <td>0</td>\n",
       "      <td>0</td>\n",
       "      <td>1</td>\n",
       "      <td>0</td>\n",
       "      <td>2</td>\n",
       "      <td>...</td>\n",
       "      <td>0</td>\n",
       "      <td>0</td>\n",
       "      <td>0</td>\n",
       "      <td>0</td>\n",
       "      <td>0</td>\n",
       "      <td>0</td>\n",
       "      <td>2</td>\n",
       "      <td>0.063025</td>\n",
       "      <td>136</td>\n",
       "      <td>1</td>\n",
       "    </tr>\n",
       "  </tbody>\n",
       "</table>\n",
       "<p>5 rows × 22 columns</p>\n",
       "</div>"
      ],
      "text/plain": [
       "   Total Number of Characters C  Vocabulary richness W/C  Account  Access  \\\n",
       "0                          1673                 0.128512        2       0   \n",
       "1                          4465                 0.137738        0       0   \n",
       "2                          6813                 0.095993        0       0   \n",
       "3                          1518                 0.109354        0       0   \n",
       "4                          1881                 0.126528        7       3   \n",
       "\n",
       "   Bank  Credit  Click  Identity  Inconvenience  Information  ...  Password  \\\n",
       "0     0       0      1         0              0            1  ...         1   \n",
       "1     0       0      0         0              0            4  ...         0   \n",
       "2     0       2      0         0              0            2  ...         0   \n",
       "3     0       1      1         0              0            0  ...         0   \n",
       "4     0       0      0         1              0            2  ...         0   \n",
       "\n",
       "   Recently  Risk  Social  Security  Service  Suspended  \\\n",
       "0         1     0       0         0        0          0   \n",
       "1         0     0       0         3        1          0   \n",
       "2         0     0       0         0        0          0   \n",
       "3         0     0       0         0        0          0   \n",
       "4         0     0       0         0        0          2   \n",
       "\n",
       "   Total number of Function words/W  Unique Words  Phishing Status  \n",
       "0                          0.027907           132                1  \n",
       "1                          0.013008           338                1  \n",
       "2                          0.006116           292                1  \n",
       "3                          0.012048           102                1  \n",
       "4                          0.063025           136                1  \n",
       "\n",
       "[5 rows x 22 columns]"
      ]
     },
     "execution_count": 17,
     "metadata": {},
     "output_type": "execute_result"
    }
   ],
   "source": [
    "df.head()"
   ]
  },
  {
   "cell_type": "markdown",
   "id": "16c2550e",
   "metadata": {},
   "source": [
    "# Encode the data set"
   ]
  },
  {
   "cell_type": "markdown",
   "id": "cf918f2f",
   "metadata": {},
   "source": [
    "# seperate x, y"
   ]
  },
  {
   "cell_type": "code",
   "execution_count": 18,
   "id": "1daf8a2d",
   "metadata": {},
   "outputs": [],
   "source": [
    "x = df.drop('Phishing Status',axis=1) #separate dependent and independent variable\n",
    "y = df['Phishing Status']"
   ]
  },
  {
   "cell_type": "code",
   "execution_count": 19,
   "id": "72bcca90",
   "metadata": {},
   "outputs": [
    {
     "data": {
      "text/html": [
       "<div>\n",
       "<style scoped>\n",
       "    .dataframe tbody tr th:only-of-type {\n",
       "        vertical-align: middle;\n",
       "    }\n",
       "\n",
       "    .dataframe tbody tr th {\n",
       "        vertical-align: top;\n",
       "    }\n",
       "\n",
       "    .dataframe thead th {\n",
       "        text-align: right;\n",
       "    }\n",
       "</style>\n",
       "<table border=\"1\" class=\"dataframe\">\n",
       "  <thead>\n",
       "    <tr style=\"text-align: right;\">\n",
       "      <th></th>\n",
       "      <th>Total Number of Characters C</th>\n",
       "      <th>Vocabulary richness W/C</th>\n",
       "      <th>Account</th>\n",
       "      <th>Access</th>\n",
       "      <th>Bank</th>\n",
       "      <th>Credit</th>\n",
       "      <th>Click</th>\n",
       "      <th>Identity</th>\n",
       "      <th>Inconvenience</th>\n",
       "      <th>Information</th>\n",
       "      <th>...</th>\n",
       "      <th>Minutes</th>\n",
       "      <th>Password</th>\n",
       "      <th>Recently</th>\n",
       "      <th>Risk</th>\n",
       "      <th>Social</th>\n",
       "      <th>Security</th>\n",
       "      <th>Service</th>\n",
       "      <th>Suspended</th>\n",
       "      <th>Total number of Function words/W</th>\n",
       "      <th>Unique Words</th>\n",
       "    </tr>\n",
       "  </thead>\n",
       "  <tbody>\n",
       "    <tr>\n",
       "      <th>0</th>\n",
       "      <td>1673</td>\n",
       "      <td>0.128512</td>\n",
       "      <td>2</td>\n",
       "      <td>0</td>\n",
       "      <td>0</td>\n",
       "      <td>0</td>\n",
       "      <td>1</td>\n",
       "      <td>0</td>\n",
       "      <td>0</td>\n",
       "      <td>1</td>\n",
       "      <td>...</td>\n",
       "      <td>0</td>\n",
       "      <td>1</td>\n",
       "      <td>1</td>\n",
       "      <td>0</td>\n",
       "      <td>0</td>\n",
       "      <td>0</td>\n",
       "      <td>0</td>\n",
       "      <td>0</td>\n",
       "      <td>0.027907</td>\n",
       "      <td>132</td>\n",
       "    </tr>\n",
       "    <tr>\n",
       "      <th>1</th>\n",
       "      <td>4465</td>\n",
       "      <td>0.137738</td>\n",
       "      <td>0</td>\n",
       "      <td>0</td>\n",
       "      <td>0</td>\n",
       "      <td>0</td>\n",
       "      <td>0</td>\n",
       "      <td>0</td>\n",
       "      <td>0</td>\n",
       "      <td>4</td>\n",
       "      <td>...</td>\n",
       "      <td>0</td>\n",
       "      <td>0</td>\n",
       "      <td>0</td>\n",
       "      <td>0</td>\n",
       "      <td>0</td>\n",
       "      <td>3</td>\n",
       "      <td>1</td>\n",
       "      <td>0</td>\n",
       "      <td>0.013008</td>\n",
       "      <td>338</td>\n",
       "    </tr>\n",
       "    <tr>\n",
       "      <th>2</th>\n",
       "      <td>6813</td>\n",
       "      <td>0.095993</td>\n",
       "      <td>0</td>\n",
       "      <td>0</td>\n",
       "      <td>0</td>\n",
       "      <td>2</td>\n",
       "      <td>0</td>\n",
       "      <td>0</td>\n",
       "      <td>0</td>\n",
       "      <td>2</td>\n",
       "      <td>...</td>\n",
       "      <td>0</td>\n",
       "      <td>0</td>\n",
       "      <td>0</td>\n",
       "      <td>0</td>\n",
       "      <td>0</td>\n",
       "      <td>0</td>\n",
       "      <td>0</td>\n",
       "      <td>0</td>\n",
       "      <td>0.006116</td>\n",
       "      <td>292</td>\n",
       "    </tr>\n",
       "    <tr>\n",
       "      <th>3</th>\n",
       "      <td>1518</td>\n",
       "      <td>0.109354</td>\n",
       "      <td>0</td>\n",
       "      <td>0</td>\n",
       "      <td>0</td>\n",
       "      <td>1</td>\n",
       "      <td>1</td>\n",
       "      <td>0</td>\n",
       "      <td>0</td>\n",
       "      <td>0</td>\n",
       "      <td>...</td>\n",
       "      <td>0</td>\n",
       "      <td>0</td>\n",
       "      <td>0</td>\n",
       "      <td>0</td>\n",
       "      <td>0</td>\n",
       "      <td>0</td>\n",
       "      <td>0</td>\n",
       "      <td>0</td>\n",
       "      <td>0.012048</td>\n",
       "      <td>102</td>\n",
       "    </tr>\n",
       "    <tr>\n",
       "      <th>4</th>\n",
       "      <td>1881</td>\n",
       "      <td>0.126528</td>\n",
       "      <td>7</td>\n",
       "      <td>3</td>\n",
       "      <td>0</td>\n",
       "      <td>0</td>\n",
       "      <td>0</td>\n",
       "      <td>1</td>\n",
       "      <td>0</td>\n",
       "      <td>2</td>\n",
       "      <td>...</td>\n",
       "      <td>0</td>\n",
       "      <td>0</td>\n",
       "      <td>0</td>\n",
       "      <td>0</td>\n",
       "      <td>0</td>\n",
       "      <td>0</td>\n",
       "      <td>0</td>\n",
       "      <td>2</td>\n",
       "      <td>0.063025</td>\n",
       "      <td>136</td>\n",
       "    </tr>\n",
       "  </tbody>\n",
       "</table>\n",
       "<p>5 rows × 21 columns</p>\n",
       "</div>"
      ],
      "text/plain": [
       "   Total Number of Characters C  Vocabulary richness W/C  Account  Access  \\\n",
       "0                          1673                 0.128512        2       0   \n",
       "1                          4465                 0.137738        0       0   \n",
       "2                          6813                 0.095993        0       0   \n",
       "3                          1518                 0.109354        0       0   \n",
       "4                          1881                 0.126528        7       3   \n",
       "\n",
       "   Bank  Credit  Click  Identity  Inconvenience  Information  ...  Minutes  \\\n",
       "0     0       0      1         0              0            1  ...        0   \n",
       "1     0       0      0         0              0            4  ...        0   \n",
       "2     0       2      0         0              0            2  ...        0   \n",
       "3     0       1      1         0              0            0  ...        0   \n",
       "4     0       0      0         1              0            2  ...        0   \n",
       "\n",
       "   Password  Recently  Risk  Social  Security  Service  Suspended  \\\n",
       "0         1         1     0       0         0        0          0   \n",
       "1         0         0     0       0         3        1          0   \n",
       "2         0         0     0       0         0        0          0   \n",
       "3         0         0     0       0         0        0          0   \n",
       "4         0         0     0       0         0        0          2   \n",
       "\n",
       "   Total number of Function words/W  Unique Words  \n",
       "0                          0.027907           132  \n",
       "1                          0.013008           338  \n",
       "2                          0.006116           292  \n",
       "3                          0.012048           102  \n",
       "4                          0.063025           136  \n",
       "\n",
       "[5 rows x 21 columns]"
      ]
     },
     "execution_count": 19,
     "metadata": {},
     "output_type": "execute_result"
    }
   ],
   "source": [
    "x.head()"
   ]
  },
  {
   "cell_type": "code",
   "execution_count": 20,
   "id": "d8acf9a7",
   "metadata": {},
   "outputs": [
    {
     "data": {
      "text/plain": [
       "(451085, 21)"
      ]
     },
     "execution_count": 20,
     "metadata": {},
     "output_type": "execute_result"
    }
   ],
   "source": [
    "x.shape"
   ]
  },
  {
   "cell_type": "code",
   "execution_count": 21,
   "id": "56e1cc63",
   "metadata": {},
   "outputs": [
    {
     "data": {
      "text/plain": [
       "0    1\n",
       "1    1\n",
       "2    1\n",
       "3    1\n",
       "4    1\n",
       "Name: Phishing Status, dtype: int64"
      ]
     },
     "execution_count": 21,
     "metadata": {},
     "output_type": "execute_result"
    }
   ],
   "source": [
    "y.head()"
   ]
  },
  {
   "cell_type": "code",
   "execution_count": 22,
   "id": "175368dc",
   "metadata": {},
   "outputs": [
    {
     "data": {
      "text/plain": [
       "(451085,)"
      ]
     },
     "execution_count": 22,
     "metadata": {},
     "output_type": "execute_result"
    }
   ],
   "source": [
    "y.shape"
   ]
  },
  {
   "cell_type": "markdown",
   "id": "325b2d58",
   "metadata": {},
   "source": [
    "# Imbalanced Data Handling "
   ]
  },
  {
   "cell_type": "markdown",
   "id": "0ff88d3e",
   "metadata": {},
   "source": [
    "# Synthetic Minority Oversampling Technique (SMOTETomek)"
   ]
  },
  {
   "cell_type": "code",
   "execution_count": 23,
   "id": "b3168e2c",
   "metadata": {},
   "outputs": [
    {
     "name": "stdout",
     "output_type": "stream",
     "text": [
      "Requirement already satisfied: imblearn in c:\\users\\my\\anaconda3\\lib\\site-packages (0.0)\n",
      "Requirement already satisfied: imbalanced-learn in c:\\users\\my\\anaconda3\\lib\\site-packages (from imblearn) (0.9.1)\n",
      "Requirement already satisfied: threadpoolctl>=2.0.0 in c:\\users\\my\\anaconda3\\lib\\site-packages (from imbalanced-learn->imblearn) (2.2.0)\n",
      "Requirement already satisfied: joblib>=1.0.0 in c:\\users\\my\\anaconda3\\lib\\site-packages (from imbalanced-learn->imblearn) (1.1.0)\n",
      "Requirement already satisfied: scikit-learn>=1.1.0 in c:\\users\\my\\anaconda3\\lib\\site-packages (from imbalanced-learn->imblearn) (1.1.1)\n",
      "Requirement already satisfied: numpy>=1.17.3 in c:\\users\\my\\anaconda3\\lib\\site-packages (from imbalanced-learn->imblearn) (1.20.3)\n",
      "Requirement already satisfied: scipy>=1.3.2 in c:\\users\\my\\anaconda3\\lib\\site-packages (from imbalanced-learn->imblearn) (1.7.1)\n"
     ]
    }
   ],
   "source": [
    "!pip install imblearn"
   ]
  },
  {
   "cell_type": "code",
   "execution_count": 24,
   "id": "6a312b53",
   "metadata": {},
   "outputs": [],
   "source": [
    "# https://imbalanced-learn.org/dev/references/generated/imblearn.combine.SMOTETomek.html"
   ]
  },
  {
   "cell_type": "code",
   "execution_count": 25,
   "id": "155fbeaa",
   "metadata": {},
   "outputs": [],
   "source": [
    "from imblearn.combine import SMOTETomek"
   ]
  },
  {
   "cell_type": "code",
   "execution_count": 26,
   "id": "9df4126b",
   "metadata": {},
   "outputs": [],
   "source": [
    "sm = SMOTETomek(random_state=42)"
   ]
  },
  {
   "cell_type": "code",
   "execution_count": 27,
   "id": "4e068150",
   "metadata": {},
   "outputs": [
    {
     "data": {
      "text/plain": [
       "0    442845\n",
       "1      8240\n",
       "Name: Phishing Status, dtype: int64"
      ]
     },
     "execution_count": 27,
     "metadata": {},
     "output_type": "execute_result"
    }
   ],
   "source": [
    "y.value_counts()"
   ]
  },
  {
   "cell_type": "code",
   "execution_count": 28,
   "id": "34143702",
   "metadata": {},
   "outputs": [],
   "source": [
    "X,Y = sm.fit_resample(x,y)"
   ]
  },
  {
   "cell_type": "code",
   "execution_count": 29,
   "id": "143da068",
   "metadata": {},
   "outputs": [
    {
     "data": {
      "text/plain": [
       "(883302, 21)"
      ]
     },
     "execution_count": 29,
     "metadata": {},
     "output_type": "execute_result"
    }
   ],
   "source": [
    "X.shape"
   ]
  },
  {
   "cell_type": "code",
   "execution_count": 30,
   "id": "7f4a13c3",
   "metadata": {},
   "outputs": [
    {
     "data": {
      "text/plain": [
       "(883302,)"
      ]
     },
     "execution_count": 30,
     "metadata": {},
     "output_type": "execute_result"
    }
   ],
   "source": [
    "Y.shape"
   ]
  },
  {
   "cell_type": "code",
   "execution_count": 31,
   "id": "6a66493d",
   "metadata": {},
   "outputs": [
    {
     "data": {
      "text/plain": [
       "1    441651\n",
       "0    441651\n",
       "Name: Phishing Status, dtype: int64"
      ]
     },
     "execution_count": 31,
     "metadata": {},
     "output_type": "execute_result"
    }
   ],
   "source": [
    "Y.value_counts()"
   ]
  },
  {
   "cell_type": "code",
   "execution_count": 32,
   "id": "2f44181c",
   "metadata": {},
   "outputs": [
    {
     "data": {
      "text/html": [
       "<div>\n",
       "<style scoped>\n",
       "    .dataframe tbody tr th:only-of-type {\n",
       "        vertical-align: middle;\n",
       "    }\n",
       "\n",
       "    .dataframe tbody tr th {\n",
       "        vertical-align: top;\n",
       "    }\n",
       "\n",
       "    .dataframe thead th {\n",
       "        text-align: right;\n",
       "    }\n",
       "</style>\n",
       "<table border=\"1\" class=\"dataframe\">\n",
       "  <thead>\n",
       "    <tr style=\"text-align: right;\">\n",
       "      <th></th>\n",
       "      <th>Total Number of Characters C</th>\n",
       "      <th>Vocabulary richness W/C</th>\n",
       "      <th>Account</th>\n",
       "      <th>Access</th>\n",
       "      <th>Bank</th>\n",
       "      <th>Credit</th>\n",
       "      <th>Click</th>\n",
       "      <th>Identity</th>\n",
       "      <th>Inconvenience</th>\n",
       "      <th>Information</th>\n",
       "      <th>...</th>\n",
       "      <th>Minutes</th>\n",
       "      <th>Password</th>\n",
       "      <th>Recently</th>\n",
       "      <th>Risk</th>\n",
       "      <th>Social</th>\n",
       "      <th>Security</th>\n",
       "      <th>Service</th>\n",
       "      <th>Suspended</th>\n",
       "      <th>Total number of Function words/W</th>\n",
       "      <th>Unique Words</th>\n",
       "    </tr>\n",
       "  </thead>\n",
       "  <tbody>\n",
       "    <tr>\n",
       "      <th>0</th>\n",
       "      <td>1673</td>\n",
       "      <td>0.128512</td>\n",
       "      <td>2</td>\n",
       "      <td>0</td>\n",
       "      <td>0</td>\n",
       "      <td>0</td>\n",
       "      <td>1</td>\n",
       "      <td>0</td>\n",
       "      <td>0</td>\n",
       "      <td>1</td>\n",
       "      <td>...</td>\n",
       "      <td>0</td>\n",
       "      <td>1</td>\n",
       "      <td>1</td>\n",
       "      <td>0</td>\n",
       "      <td>0</td>\n",
       "      <td>0</td>\n",
       "      <td>0</td>\n",
       "      <td>0</td>\n",
       "      <td>0.027907</td>\n",
       "      <td>132</td>\n",
       "    </tr>\n",
       "    <tr>\n",
       "      <th>1</th>\n",
       "      <td>4465</td>\n",
       "      <td>0.137738</td>\n",
       "      <td>0</td>\n",
       "      <td>0</td>\n",
       "      <td>0</td>\n",
       "      <td>0</td>\n",
       "      <td>0</td>\n",
       "      <td>0</td>\n",
       "      <td>0</td>\n",
       "      <td>4</td>\n",
       "      <td>...</td>\n",
       "      <td>0</td>\n",
       "      <td>0</td>\n",
       "      <td>0</td>\n",
       "      <td>0</td>\n",
       "      <td>0</td>\n",
       "      <td>3</td>\n",
       "      <td>1</td>\n",
       "      <td>0</td>\n",
       "      <td>0.013008</td>\n",
       "      <td>338</td>\n",
       "    </tr>\n",
       "    <tr>\n",
       "      <th>2</th>\n",
       "      <td>6813</td>\n",
       "      <td>0.095993</td>\n",
       "      <td>0</td>\n",
       "      <td>0</td>\n",
       "      <td>0</td>\n",
       "      <td>2</td>\n",
       "      <td>0</td>\n",
       "      <td>0</td>\n",
       "      <td>0</td>\n",
       "      <td>2</td>\n",
       "      <td>...</td>\n",
       "      <td>0</td>\n",
       "      <td>0</td>\n",
       "      <td>0</td>\n",
       "      <td>0</td>\n",
       "      <td>0</td>\n",
       "      <td>0</td>\n",
       "      <td>0</td>\n",
       "      <td>0</td>\n",
       "      <td>0.006116</td>\n",
       "      <td>292</td>\n",
       "    </tr>\n",
       "    <tr>\n",
       "      <th>3</th>\n",
       "      <td>1518</td>\n",
       "      <td>0.109354</td>\n",
       "      <td>0</td>\n",
       "      <td>0</td>\n",
       "      <td>0</td>\n",
       "      <td>1</td>\n",
       "      <td>1</td>\n",
       "      <td>0</td>\n",
       "      <td>0</td>\n",
       "      <td>0</td>\n",
       "      <td>...</td>\n",
       "      <td>0</td>\n",
       "      <td>0</td>\n",
       "      <td>0</td>\n",
       "      <td>0</td>\n",
       "      <td>0</td>\n",
       "      <td>0</td>\n",
       "      <td>0</td>\n",
       "      <td>0</td>\n",
       "      <td>0.012048</td>\n",
       "      <td>102</td>\n",
       "    </tr>\n",
       "    <tr>\n",
       "      <th>4</th>\n",
       "      <td>1881</td>\n",
       "      <td>0.126528</td>\n",
       "      <td>7</td>\n",
       "      <td>3</td>\n",
       "      <td>0</td>\n",
       "      <td>0</td>\n",
       "      <td>0</td>\n",
       "      <td>1</td>\n",
       "      <td>0</td>\n",
       "      <td>2</td>\n",
       "      <td>...</td>\n",
       "      <td>0</td>\n",
       "      <td>0</td>\n",
       "      <td>0</td>\n",
       "      <td>0</td>\n",
       "      <td>0</td>\n",
       "      <td>0</td>\n",
       "      <td>0</td>\n",
       "      <td>2</td>\n",
       "      <td>0.063025</td>\n",
       "      <td>136</td>\n",
       "    </tr>\n",
       "  </tbody>\n",
       "</table>\n",
       "<p>5 rows × 21 columns</p>\n",
       "</div>"
      ],
      "text/plain": [
       "   Total Number of Characters C  Vocabulary richness W/C  Account  Access  \\\n",
       "0                          1673                 0.128512        2       0   \n",
       "1                          4465                 0.137738        0       0   \n",
       "2                          6813                 0.095993        0       0   \n",
       "3                          1518                 0.109354        0       0   \n",
       "4                          1881                 0.126528        7       3   \n",
       "\n",
       "   Bank  Credit  Click  Identity  Inconvenience  Information  ...  Minutes  \\\n",
       "0     0       0      1         0              0            1  ...        0   \n",
       "1     0       0      0         0              0            4  ...        0   \n",
       "2     0       2      0         0              0            2  ...        0   \n",
       "3     0       1      1         0              0            0  ...        0   \n",
       "4     0       0      0         1              0            2  ...        0   \n",
       "\n",
       "   Password  Recently  Risk  Social  Security  Service  Suspended  \\\n",
       "0         1         1     0       0         0        0          0   \n",
       "1         0         0     0       0         3        1          0   \n",
       "2         0         0     0       0         0        0          0   \n",
       "3         0         0     0       0         0        0          0   \n",
       "4         0         0     0       0         0        0          2   \n",
       "\n",
       "   Total number of Function words/W  Unique Words  \n",
       "0                          0.027907           132  \n",
       "1                          0.013008           338  \n",
       "2                          0.006116           292  \n",
       "3                          0.012048           102  \n",
       "4                          0.063025           136  \n",
       "\n",
       "[5 rows x 21 columns]"
      ]
     },
     "execution_count": 32,
     "metadata": {},
     "output_type": "execute_result"
    }
   ],
   "source": [
    "X.head()"
   ]
  },
  {
   "cell_type": "markdown",
   "id": "9513e8e4",
   "metadata": {},
   "source": [
    "# Near Miss for Under_Sampling"
   ]
  },
  {
   "cell_type": "code",
   "execution_count": 33,
   "id": "763ab3ad",
   "metadata": {},
   "outputs": [],
   "source": [
    "from imblearn.under_sampling import NearMiss"
   ]
  },
  {
   "cell_type": "code",
   "execution_count": 34,
   "id": "e7d82d59",
   "metadata": {},
   "outputs": [],
   "source": [
    "# https://imbalanced-learn.org/dev/references/generated/imblearn.under_sampling.NearMiss.html\n",
    "\n",
    "NearMiss_obj = NearMiss()\n",
    "new_x , new_y = NearMiss_obj.fit_resample(x,y)"
   ]
  },
  {
   "cell_type": "code",
   "execution_count": 35,
   "id": "9287365a",
   "metadata": {},
   "outputs": [
    {
     "data": {
      "text/html": [
       "<div>\n",
       "<style scoped>\n",
       "    .dataframe tbody tr th:only-of-type {\n",
       "        vertical-align: middle;\n",
       "    }\n",
       "\n",
       "    .dataframe tbody tr th {\n",
       "        vertical-align: top;\n",
       "    }\n",
       "\n",
       "    .dataframe thead th {\n",
       "        text-align: right;\n",
       "    }\n",
       "</style>\n",
       "<table border=\"1\" class=\"dataframe\">\n",
       "  <thead>\n",
       "    <tr style=\"text-align: right;\">\n",
       "      <th></th>\n",
       "      <th>Total Number of Characters C</th>\n",
       "      <th>Vocabulary richness W/C</th>\n",
       "      <th>Account</th>\n",
       "      <th>Access</th>\n",
       "      <th>Bank</th>\n",
       "      <th>Credit</th>\n",
       "      <th>Click</th>\n",
       "      <th>Identity</th>\n",
       "      <th>Inconvenience</th>\n",
       "      <th>Information</th>\n",
       "      <th>...</th>\n",
       "      <th>Minutes</th>\n",
       "      <th>Password</th>\n",
       "      <th>Recently</th>\n",
       "      <th>Risk</th>\n",
       "      <th>Social</th>\n",
       "      <th>Security</th>\n",
       "      <th>Service</th>\n",
       "      <th>Suspended</th>\n",
       "      <th>Total number of Function words/W</th>\n",
       "      <th>Unique Words</th>\n",
       "    </tr>\n",
       "  </thead>\n",
       "  <tbody>\n",
       "    <tr>\n",
       "      <th>0</th>\n",
       "      <td>1143</td>\n",
       "      <td>0.066492</td>\n",
       "      <td>0</td>\n",
       "      <td>0</td>\n",
       "      <td>0</td>\n",
       "      <td>0</td>\n",
       "      <td>0</td>\n",
       "      <td>0</td>\n",
       "      <td>0</td>\n",
       "      <td>0</td>\n",
       "      <td>...</td>\n",
       "      <td>0</td>\n",
       "      <td>0</td>\n",
       "      <td>0</td>\n",
       "      <td>0</td>\n",
       "      <td>0</td>\n",
       "      <td>0</td>\n",
       "      <td>0</td>\n",
       "      <td>0</td>\n",
       "      <td>0.000000</td>\n",
       "      <td>72</td>\n",
       "    </tr>\n",
       "    <tr>\n",
       "      <th>1</th>\n",
       "      <td>1102</td>\n",
       "      <td>0.117060</td>\n",
       "      <td>0</td>\n",
       "      <td>0</td>\n",
       "      <td>0</td>\n",
       "      <td>0</td>\n",
       "      <td>0</td>\n",
       "      <td>0</td>\n",
       "      <td>0</td>\n",
       "      <td>0</td>\n",
       "      <td>...</td>\n",
       "      <td>0</td>\n",
       "      <td>0</td>\n",
       "      <td>0</td>\n",
       "      <td>0</td>\n",
       "      <td>0</td>\n",
       "      <td>0</td>\n",
       "      <td>0</td>\n",
       "      <td>0</td>\n",
       "      <td>0.000000</td>\n",
       "      <td>57</td>\n",
       "    </tr>\n",
       "    <tr>\n",
       "      <th>2</th>\n",
       "      <td>1683</td>\n",
       "      <td>0.101010</td>\n",
       "      <td>0</td>\n",
       "      <td>0</td>\n",
       "      <td>0</td>\n",
       "      <td>0</td>\n",
       "      <td>0</td>\n",
       "      <td>0</td>\n",
       "      <td>0</td>\n",
       "      <td>0</td>\n",
       "      <td>...</td>\n",
       "      <td>0</td>\n",
       "      <td>0</td>\n",
       "      <td>0</td>\n",
       "      <td>0</td>\n",
       "      <td>0</td>\n",
       "      <td>0</td>\n",
       "      <td>0</td>\n",
       "      <td>0</td>\n",
       "      <td>0.000000</td>\n",
       "      <td>90</td>\n",
       "    </tr>\n",
       "    <tr>\n",
       "      <th>3</th>\n",
       "      <td>1683</td>\n",
       "      <td>0.076649</td>\n",
       "      <td>0</td>\n",
       "      <td>0</td>\n",
       "      <td>0</td>\n",
       "      <td>0</td>\n",
       "      <td>0</td>\n",
       "      <td>0</td>\n",
       "      <td>0</td>\n",
       "      <td>0</td>\n",
       "      <td>...</td>\n",
       "      <td>0</td>\n",
       "      <td>0</td>\n",
       "      <td>0</td>\n",
       "      <td>0</td>\n",
       "      <td>0</td>\n",
       "      <td>0</td>\n",
       "      <td>0</td>\n",
       "      <td>0</td>\n",
       "      <td>0.000000</td>\n",
       "      <td>90</td>\n",
       "    </tr>\n",
       "    <tr>\n",
       "      <th>4</th>\n",
       "      <td>1102</td>\n",
       "      <td>0.094374</td>\n",
       "      <td>0</td>\n",
       "      <td>0</td>\n",
       "      <td>0</td>\n",
       "      <td>0</td>\n",
       "      <td>0</td>\n",
       "      <td>0</td>\n",
       "      <td>0</td>\n",
       "      <td>0</td>\n",
       "      <td>...</td>\n",
       "      <td>0</td>\n",
       "      <td>0</td>\n",
       "      <td>0</td>\n",
       "      <td>0</td>\n",
       "      <td>0</td>\n",
       "      <td>0</td>\n",
       "      <td>0</td>\n",
       "      <td>0</td>\n",
       "      <td>0.000000</td>\n",
       "      <td>58</td>\n",
       "    </tr>\n",
       "    <tr>\n",
       "      <th>...</th>\n",
       "      <td>...</td>\n",
       "      <td>...</td>\n",
       "      <td>...</td>\n",
       "      <td>...</td>\n",
       "      <td>...</td>\n",
       "      <td>...</td>\n",
       "      <td>...</td>\n",
       "      <td>...</td>\n",
       "      <td>...</td>\n",
       "      <td>...</td>\n",
       "      <td>...</td>\n",
       "      <td>...</td>\n",
       "      <td>...</td>\n",
       "      <td>...</td>\n",
       "      <td>...</td>\n",
       "      <td>...</td>\n",
       "      <td>...</td>\n",
       "      <td>...</td>\n",
       "      <td>...</td>\n",
       "      <td>...</td>\n",
       "      <td>...</td>\n",
       "    </tr>\n",
       "    <tr>\n",
       "      <th>16475</th>\n",
       "      <td>2439</td>\n",
       "      <td>0.066831</td>\n",
       "      <td>0</td>\n",
       "      <td>0</td>\n",
       "      <td>0</td>\n",
       "      <td>0</td>\n",
       "      <td>0</td>\n",
       "      <td>0</td>\n",
       "      <td>0</td>\n",
       "      <td>0</td>\n",
       "      <td>...</td>\n",
       "      <td>0</td>\n",
       "      <td>0</td>\n",
       "      <td>0</td>\n",
       "      <td>0</td>\n",
       "      <td>0</td>\n",
       "      <td>0</td>\n",
       "      <td>0</td>\n",
       "      <td>0</td>\n",
       "      <td>0.000000</td>\n",
       "      <td>64</td>\n",
       "    </tr>\n",
       "    <tr>\n",
       "      <th>16476</th>\n",
       "      <td>818</td>\n",
       "      <td>0.084352</td>\n",
       "      <td>0</td>\n",
       "      <td>0</td>\n",
       "      <td>0</td>\n",
       "      <td>0</td>\n",
       "      <td>1</td>\n",
       "      <td>0</td>\n",
       "      <td>0</td>\n",
       "      <td>0</td>\n",
       "      <td>...</td>\n",
       "      <td>0</td>\n",
       "      <td>0</td>\n",
       "      <td>0</td>\n",
       "      <td>0</td>\n",
       "      <td>0</td>\n",
       "      <td>2</td>\n",
       "      <td>0</td>\n",
       "      <td>0</td>\n",
       "      <td>0.043478</td>\n",
       "      <td>38</td>\n",
       "    </tr>\n",
       "    <tr>\n",
       "      <th>16477</th>\n",
       "      <td>2616</td>\n",
       "      <td>0.068807</td>\n",
       "      <td>2</td>\n",
       "      <td>0</td>\n",
       "      <td>0</td>\n",
       "      <td>0</td>\n",
       "      <td>0</td>\n",
       "      <td>0</td>\n",
       "      <td>0</td>\n",
       "      <td>0</td>\n",
       "      <td>...</td>\n",
       "      <td>0</td>\n",
       "      <td>0</td>\n",
       "      <td>0</td>\n",
       "      <td>0</td>\n",
       "      <td>0</td>\n",
       "      <td>0</td>\n",
       "      <td>0</td>\n",
       "      <td>0</td>\n",
       "      <td>0.011111</td>\n",
       "      <td>110</td>\n",
       "    </tr>\n",
       "    <tr>\n",
       "      <th>16478</th>\n",
       "      <td>4003</td>\n",
       "      <td>0.082688</td>\n",
       "      <td>4</td>\n",
       "      <td>0</td>\n",
       "      <td>1</td>\n",
       "      <td>0</td>\n",
       "      <td>0</td>\n",
       "      <td>0</td>\n",
       "      <td>0</td>\n",
       "      <td>0</td>\n",
       "      <td>...</td>\n",
       "      <td>0</td>\n",
       "      <td>0</td>\n",
       "      <td>0</td>\n",
       "      <td>0</td>\n",
       "      <td>0</td>\n",
       "      <td>0</td>\n",
       "      <td>2</td>\n",
       "      <td>0</td>\n",
       "      <td>0.021148</td>\n",
       "      <td>150</td>\n",
       "    </tr>\n",
       "    <tr>\n",
       "      <th>16479</th>\n",
       "      <td>2241</td>\n",
       "      <td>0.060687</td>\n",
       "      <td>1</td>\n",
       "      <td>0</td>\n",
       "      <td>0</td>\n",
       "      <td>0</td>\n",
       "      <td>0</td>\n",
       "      <td>0</td>\n",
       "      <td>0</td>\n",
       "      <td>0</td>\n",
       "      <td>...</td>\n",
       "      <td>0</td>\n",
       "      <td>0</td>\n",
       "      <td>0</td>\n",
       "      <td>0</td>\n",
       "      <td>0</td>\n",
       "      <td>0</td>\n",
       "      <td>0</td>\n",
       "      <td>0</td>\n",
       "      <td>0.007353</td>\n",
       "      <td>82</td>\n",
       "    </tr>\n",
       "  </tbody>\n",
       "</table>\n",
       "<p>16480 rows × 21 columns</p>\n",
       "</div>"
      ],
      "text/plain": [
       "       Total Number of Characters C  Vocabulary richness W/C  Account  Access  \\\n",
       "0                              1143                 0.066492        0       0   \n",
       "1                              1102                 0.117060        0       0   \n",
       "2                              1683                 0.101010        0       0   \n",
       "3                              1683                 0.076649        0       0   \n",
       "4                              1102                 0.094374        0       0   \n",
       "...                             ...                      ...      ...     ...   \n",
       "16475                          2439                 0.066831        0       0   \n",
       "16476                           818                 0.084352        0       0   \n",
       "16477                          2616                 0.068807        2       0   \n",
       "16478                          4003                 0.082688        4       0   \n",
       "16479                          2241                 0.060687        1       0   \n",
       "\n",
       "       Bank  Credit  Click  Identity  Inconvenience  Information  ...  \\\n",
       "0         0       0      0         0              0            0  ...   \n",
       "1         0       0      0         0              0            0  ...   \n",
       "2         0       0      0         0              0            0  ...   \n",
       "3         0       0      0         0              0            0  ...   \n",
       "4         0       0      0         0              0            0  ...   \n",
       "...     ...     ...    ...       ...            ...          ...  ...   \n",
       "16475     0       0      0         0              0            0  ...   \n",
       "16476     0       0      1         0              0            0  ...   \n",
       "16477     0       0      0         0              0            0  ...   \n",
       "16478     1       0      0         0              0            0  ...   \n",
       "16479     0       0      0         0              0            0  ...   \n",
       "\n",
       "       Minutes  Password  Recently  Risk  Social  Security  Service  \\\n",
       "0            0         0         0     0       0         0        0   \n",
       "1            0         0         0     0       0         0        0   \n",
       "2            0         0         0     0       0         0        0   \n",
       "3            0         0         0     0       0         0        0   \n",
       "4            0         0         0     0       0         0        0   \n",
       "...        ...       ...       ...   ...     ...       ...      ...   \n",
       "16475        0         0         0     0       0         0        0   \n",
       "16476        0         0         0     0       0         2        0   \n",
       "16477        0         0         0     0       0         0        0   \n",
       "16478        0         0         0     0       0         0        2   \n",
       "16479        0         0         0     0       0         0        0   \n",
       "\n",
       "       Suspended  Total number of Function words/W  Unique Words  \n",
       "0              0                          0.000000            72  \n",
       "1              0                          0.000000            57  \n",
       "2              0                          0.000000            90  \n",
       "3              0                          0.000000            90  \n",
       "4              0                          0.000000            58  \n",
       "...          ...                               ...           ...  \n",
       "16475          0                          0.000000            64  \n",
       "16476          0                          0.043478            38  \n",
       "16477          0                          0.011111           110  \n",
       "16478          0                          0.021148           150  \n",
       "16479          0                          0.007353            82  \n",
       "\n",
       "[16480 rows x 21 columns]"
      ]
     },
     "execution_count": 35,
     "metadata": {},
     "output_type": "execute_result"
    }
   ],
   "source": [
    "new_x"
   ]
  },
  {
   "cell_type": "code",
   "execution_count": 36,
   "id": "f6729531",
   "metadata": {},
   "outputs": [
    {
     "data": {
      "text/plain": [
       "(16480, 21)"
      ]
     },
     "execution_count": 36,
     "metadata": {},
     "output_type": "execute_result"
    }
   ],
   "source": [
    "new_x.shape"
   ]
  },
  {
   "cell_type": "code",
   "execution_count": 37,
   "id": "fd0f1ad8",
   "metadata": {},
   "outputs": [
    {
     "data": {
      "text/plain": [
       "0        0\n",
       "1        0\n",
       "2        0\n",
       "3        0\n",
       "4        0\n",
       "        ..\n",
       "16475    1\n",
       "16476    1\n",
       "16477    1\n",
       "16478    1\n",
       "16479    1\n",
       "Name: Phishing Status, Length: 16480, dtype: int64"
      ]
     },
     "execution_count": 37,
     "metadata": {},
     "output_type": "execute_result"
    }
   ],
   "source": [
    "new_y"
   ]
  },
  {
   "cell_type": "code",
   "execution_count": 38,
   "id": "e5c7f52d",
   "metadata": {},
   "outputs": [
    {
     "data": {
      "text/plain": [
       "0    8240\n",
       "1    8240\n",
       "Name: Phishing Status, dtype: int64"
      ]
     },
     "execution_count": 38,
     "metadata": {},
     "output_type": "execute_result"
    }
   ],
   "source": [
    "new_y.value_counts()"
   ]
  },
  {
   "cell_type": "markdown",
   "id": "f9b6422b",
   "metadata": {},
   "source": [
    "# Over Sampling"
   ]
  },
  {
   "cell_type": "code",
   "execution_count": 39,
   "id": "ebec5735",
   "metadata": {},
   "outputs": [
    {
     "data": {
      "text/html": [
       "<div>\n",
       "<style scoped>\n",
       "    .dataframe tbody tr th:only-of-type {\n",
       "        vertical-align: middle;\n",
       "    }\n",
       "\n",
       "    .dataframe tbody tr th {\n",
       "        vertical-align: top;\n",
       "    }\n",
       "\n",
       "    .dataframe thead th {\n",
       "        text-align: right;\n",
       "    }\n",
       "</style>\n",
       "<table border=\"1\" class=\"dataframe\">\n",
       "  <thead>\n",
       "    <tr style=\"text-align: right;\">\n",
       "      <th></th>\n",
       "      <th>Total Number of Characters C</th>\n",
       "      <th>Vocabulary richness W/C</th>\n",
       "      <th>Account</th>\n",
       "      <th>Access</th>\n",
       "      <th>Bank</th>\n",
       "      <th>Credit</th>\n",
       "      <th>Click</th>\n",
       "      <th>Identity</th>\n",
       "      <th>Inconvenience</th>\n",
       "      <th>Information</th>\n",
       "      <th>...</th>\n",
       "      <th>Password</th>\n",
       "      <th>Recently</th>\n",
       "      <th>Risk</th>\n",
       "      <th>Social</th>\n",
       "      <th>Security</th>\n",
       "      <th>Service</th>\n",
       "      <th>Suspended</th>\n",
       "      <th>Total number of Function words/W</th>\n",
       "      <th>Unique Words</th>\n",
       "      <th>Phishing Status</th>\n",
       "    </tr>\n",
       "  </thead>\n",
       "  <tbody>\n",
       "    <tr>\n",
       "      <th>0</th>\n",
       "      <td>1673</td>\n",
       "      <td>0.128512</td>\n",
       "      <td>2</td>\n",
       "      <td>0</td>\n",
       "      <td>0</td>\n",
       "      <td>0</td>\n",
       "      <td>1</td>\n",
       "      <td>0</td>\n",
       "      <td>0</td>\n",
       "      <td>1</td>\n",
       "      <td>...</td>\n",
       "      <td>1</td>\n",
       "      <td>1</td>\n",
       "      <td>0</td>\n",
       "      <td>0</td>\n",
       "      <td>0</td>\n",
       "      <td>0</td>\n",
       "      <td>0</td>\n",
       "      <td>0.027907</td>\n",
       "      <td>132</td>\n",
       "      <td>1</td>\n",
       "    </tr>\n",
       "    <tr>\n",
       "      <th>1</th>\n",
       "      <td>4465</td>\n",
       "      <td>0.137738</td>\n",
       "      <td>0</td>\n",
       "      <td>0</td>\n",
       "      <td>0</td>\n",
       "      <td>0</td>\n",
       "      <td>0</td>\n",
       "      <td>0</td>\n",
       "      <td>0</td>\n",
       "      <td>4</td>\n",
       "      <td>...</td>\n",
       "      <td>0</td>\n",
       "      <td>0</td>\n",
       "      <td>0</td>\n",
       "      <td>0</td>\n",
       "      <td>3</td>\n",
       "      <td>1</td>\n",
       "      <td>0</td>\n",
       "      <td>0.013008</td>\n",
       "      <td>338</td>\n",
       "      <td>1</td>\n",
       "    </tr>\n",
       "    <tr>\n",
       "      <th>2</th>\n",
       "      <td>6813</td>\n",
       "      <td>0.095993</td>\n",
       "      <td>0</td>\n",
       "      <td>0</td>\n",
       "      <td>0</td>\n",
       "      <td>2</td>\n",
       "      <td>0</td>\n",
       "      <td>0</td>\n",
       "      <td>0</td>\n",
       "      <td>2</td>\n",
       "      <td>...</td>\n",
       "      <td>0</td>\n",
       "      <td>0</td>\n",
       "      <td>0</td>\n",
       "      <td>0</td>\n",
       "      <td>0</td>\n",
       "      <td>0</td>\n",
       "      <td>0</td>\n",
       "      <td>0.006116</td>\n",
       "      <td>292</td>\n",
       "      <td>1</td>\n",
       "    </tr>\n",
       "    <tr>\n",
       "      <th>3</th>\n",
       "      <td>1518</td>\n",
       "      <td>0.109354</td>\n",
       "      <td>0</td>\n",
       "      <td>0</td>\n",
       "      <td>0</td>\n",
       "      <td>1</td>\n",
       "      <td>1</td>\n",
       "      <td>0</td>\n",
       "      <td>0</td>\n",
       "      <td>0</td>\n",
       "      <td>...</td>\n",
       "      <td>0</td>\n",
       "      <td>0</td>\n",
       "      <td>0</td>\n",
       "      <td>0</td>\n",
       "      <td>0</td>\n",
       "      <td>0</td>\n",
       "      <td>0</td>\n",
       "      <td>0.012048</td>\n",
       "      <td>102</td>\n",
       "      <td>1</td>\n",
       "    </tr>\n",
       "    <tr>\n",
       "      <th>4</th>\n",
       "      <td>1881</td>\n",
       "      <td>0.126528</td>\n",
       "      <td>7</td>\n",
       "      <td>3</td>\n",
       "      <td>0</td>\n",
       "      <td>0</td>\n",
       "      <td>0</td>\n",
       "      <td>1</td>\n",
       "      <td>0</td>\n",
       "      <td>2</td>\n",
       "      <td>...</td>\n",
       "      <td>0</td>\n",
       "      <td>0</td>\n",
       "      <td>0</td>\n",
       "      <td>0</td>\n",
       "      <td>0</td>\n",
       "      <td>0</td>\n",
       "      <td>2</td>\n",
       "      <td>0.063025</td>\n",
       "      <td>136</td>\n",
       "      <td>1</td>\n",
       "    </tr>\n",
       "  </tbody>\n",
       "</table>\n",
       "<p>5 rows × 22 columns</p>\n",
       "</div>"
      ],
      "text/plain": [
       "   Total Number of Characters C  Vocabulary richness W/C  Account  Access  \\\n",
       "0                          1673                 0.128512        2       0   \n",
       "1                          4465                 0.137738        0       0   \n",
       "2                          6813                 0.095993        0       0   \n",
       "3                          1518                 0.109354        0       0   \n",
       "4                          1881                 0.126528        7       3   \n",
       "\n",
       "   Bank  Credit  Click  Identity  Inconvenience  Information  ...  Password  \\\n",
       "0     0       0      1         0              0            1  ...         1   \n",
       "1     0       0      0         0              0            4  ...         0   \n",
       "2     0       2      0         0              0            2  ...         0   \n",
       "3     0       1      1         0              0            0  ...         0   \n",
       "4     0       0      0         1              0            2  ...         0   \n",
       "\n",
       "   Recently  Risk  Social  Security  Service  Suspended  \\\n",
       "0         1     0       0         0        0          0   \n",
       "1         0     0       0         3        1          0   \n",
       "2         0     0       0         0        0          0   \n",
       "3         0     0       0         0        0          0   \n",
       "4         0     0       0         0        0          2   \n",
       "\n",
       "   Total number of Function words/W  Unique Words  Phishing Status  \n",
       "0                          0.027907           132                1  \n",
       "1                          0.013008           338                1  \n",
       "2                          0.006116           292                1  \n",
       "3                          0.012048           102                1  \n",
       "4                          0.063025           136                1  \n",
       "\n",
       "[5 rows x 22 columns]"
      ]
     },
     "execution_count": 39,
     "metadata": {},
     "output_type": "execute_result"
    }
   ],
   "source": [
    "df2.head()"
   ]
  },
  {
   "cell_type": "code",
   "execution_count": 40,
   "id": "07db1647",
   "metadata": {},
   "outputs": [],
   "source": [
    "from imblearn.over_sampling import RandomOverSampler"
   ]
  },
  {
   "cell_type": "code",
   "execution_count": 41,
   "id": "8ad7f4f9",
   "metadata": {},
   "outputs": [],
   "source": [
    "# https://imbalanced-learn.org/stable/references/generated/imblearn.over_sampling.RandomOverSampler.html\n",
    "over = RandomOverSampler(random_state=100)"
   ]
  },
  {
   "cell_type": "code",
   "execution_count": 42,
   "id": "4b90c6ee",
   "metadata": {},
   "outputs": [],
   "source": [
    "x_new , y_new = over.fit_resample(x,y)"
   ]
  },
  {
   "cell_type": "code",
   "execution_count": 43,
   "id": "8856bf32",
   "metadata": {},
   "outputs": [
    {
     "data": {
      "text/plain": [
       "(885690, 21)"
      ]
     },
     "execution_count": 43,
     "metadata": {},
     "output_type": "execute_result"
    }
   ],
   "source": [
    "x_new.shape"
   ]
  },
  {
   "cell_type": "code",
   "execution_count": 44,
   "id": "8e9c87ae",
   "metadata": {},
   "outputs": [
    {
     "data": {
      "text/plain": [
       "(885690,)"
      ]
     },
     "execution_count": 44,
     "metadata": {},
     "output_type": "execute_result"
    }
   ],
   "source": [
    "y_new.shape"
   ]
  },
  {
   "cell_type": "code",
   "execution_count": 45,
   "id": "87c7d2ff",
   "metadata": {},
   "outputs": [
    {
     "data": {
      "text/plain": [
       "1    442845\n",
       "0    442845\n",
       "Name: Phishing Status, dtype: int64"
      ]
     },
     "execution_count": 45,
     "metadata": {},
     "output_type": "execute_result"
    }
   ],
   "source": [
    "y_new.value_counts()"
   ]
  },
  {
   "cell_type": "markdown",
   "id": "79db0939",
   "metadata": {},
   "source": [
    "# Cross Validation"
   ]
  },
  {
   "cell_type": "markdown",
   "id": "8218dd3e",
   "metadata": {},
   "source": [
    "# Hold Out Cross Validation"
   ]
  },
  {
   "cell_type": "code",
   "execution_count": 46,
   "id": "e508511d",
   "metadata": {},
   "outputs": [],
   "source": [
    "from sklearn.model_selection import train_test_split "
   ]
  },
  {
   "cell_type": "code",
   "execution_count": 47,
   "id": "72f6b00d",
   "metadata": {},
   "outputs": [],
   "source": [
    "xtrain,xtest, ytrain,ytest = train_test_split(x_new, y_new, train_size=.75,random_state=42) "
   ]
  },
  {
   "cell_type": "code",
   "execution_count": 48,
   "id": "ded7ca3b",
   "metadata": {},
   "outputs": [
    {
     "data": {
      "text/html": [
       "<div>\n",
       "<style scoped>\n",
       "    .dataframe tbody tr th:only-of-type {\n",
       "        vertical-align: middle;\n",
       "    }\n",
       "\n",
       "    .dataframe tbody tr th {\n",
       "        vertical-align: top;\n",
       "    }\n",
       "\n",
       "    .dataframe thead th {\n",
       "        text-align: right;\n",
       "    }\n",
       "</style>\n",
       "<table border=\"1\" class=\"dataframe\">\n",
       "  <thead>\n",
       "    <tr style=\"text-align: right;\">\n",
       "      <th></th>\n",
       "      <th>Total Number of Characters C</th>\n",
       "      <th>Vocabulary richness W/C</th>\n",
       "      <th>Account</th>\n",
       "      <th>Access</th>\n",
       "      <th>Bank</th>\n",
       "      <th>Credit</th>\n",
       "      <th>Click</th>\n",
       "      <th>Identity</th>\n",
       "      <th>Inconvenience</th>\n",
       "      <th>Information</th>\n",
       "      <th>...</th>\n",
       "      <th>Minutes</th>\n",
       "      <th>Password</th>\n",
       "      <th>Recently</th>\n",
       "      <th>Risk</th>\n",
       "      <th>Social</th>\n",
       "      <th>Security</th>\n",
       "      <th>Service</th>\n",
       "      <th>Suspended</th>\n",
       "      <th>Total number of Function words/W</th>\n",
       "      <th>Unique Words</th>\n",
       "    </tr>\n",
       "  </thead>\n",
       "  <tbody>\n",
       "    <tr>\n",
       "      <th>10776</th>\n",
       "      <td>407</td>\n",
       "      <td>0.105651</td>\n",
       "      <td>0</td>\n",
       "      <td>0</td>\n",
       "      <td>0</td>\n",
       "      <td>0</td>\n",
       "      <td>0</td>\n",
       "      <td>0</td>\n",
       "      <td>0</td>\n",
       "      <td>0</td>\n",
       "      <td>...</td>\n",
       "      <td>0</td>\n",
       "      <td>0</td>\n",
       "      <td>0</td>\n",
       "      <td>0</td>\n",
       "      <td>0</td>\n",
       "      <td>0</td>\n",
       "      <td>0</td>\n",
       "      <td>0</td>\n",
       "      <td>0.000000</td>\n",
       "      <td>41</td>\n",
       "    </tr>\n",
       "    <tr>\n",
       "      <th>817702</th>\n",
       "      <td>2963</td>\n",
       "      <td>0.116436</td>\n",
       "      <td>0</td>\n",
       "      <td>0</td>\n",
       "      <td>0</td>\n",
       "      <td>0</td>\n",
       "      <td>2</td>\n",
       "      <td>0</td>\n",
       "      <td>0</td>\n",
       "      <td>0</td>\n",
       "      <td>...</td>\n",
       "      <td>0</td>\n",
       "      <td>0</td>\n",
       "      <td>0</td>\n",
       "      <td>0</td>\n",
       "      <td>0</td>\n",
       "      <td>5</td>\n",
       "      <td>0</td>\n",
       "      <td>0</td>\n",
       "      <td>0.020290</td>\n",
       "      <td>97</td>\n",
       "    </tr>\n",
       "    <tr>\n",
       "      <th>290748</th>\n",
       "      <td>5101</td>\n",
       "      <td>0.136052</td>\n",
       "      <td>0</td>\n",
       "      <td>0</td>\n",
       "      <td>0</td>\n",
       "      <td>0</td>\n",
       "      <td>0</td>\n",
       "      <td>0</td>\n",
       "      <td>0</td>\n",
       "      <td>3</td>\n",
       "      <td>...</td>\n",
       "      <td>0</td>\n",
       "      <td>0</td>\n",
       "      <td>1</td>\n",
       "      <td>1</td>\n",
       "      <td>0</td>\n",
       "      <td>0</td>\n",
       "      <td>0</td>\n",
       "      <td>0</td>\n",
       "      <td>0.007205</td>\n",
       "      <td>386</td>\n",
       "    </tr>\n",
       "    <tr>\n",
       "      <th>363470</th>\n",
       "      <td>1177</td>\n",
       "      <td>0.124894</td>\n",
       "      <td>0</td>\n",
       "      <td>1</td>\n",
       "      <td>0</td>\n",
       "      <td>0</td>\n",
       "      <td>0</td>\n",
       "      <td>0</td>\n",
       "      <td>0</td>\n",
       "      <td>0</td>\n",
       "      <td>...</td>\n",
       "      <td>0</td>\n",
       "      <td>0</td>\n",
       "      <td>0</td>\n",
       "      <td>0</td>\n",
       "      <td>0</td>\n",
       "      <td>1</td>\n",
       "      <td>0</td>\n",
       "      <td>0</td>\n",
       "      <td>0.013605</td>\n",
       "      <td>103</td>\n",
       "    </tr>\n",
       "    <tr>\n",
       "      <th>452314</th>\n",
       "      <td>1296</td>\n",
       "      <td>0.112654</td>\n",
       "      <td>1</td>\n",
       "      <td>0</td>\n",
       "      <td>0</td>\n",
       "      <td>0</td>\n",
       "      <td>0</td>\n",
       "      <td>0</td>\n",
       "      <td>0</td>\n",
       "      <td>0</td>\n",
       "      <td>...</td>\n",
       "      <td>0</td>\n",
       "      <td>0</td>\n",
       "      <td>0</td>\n",
       "      <td>0</td>\n",
       "      <td>0</td>\n",
       "      <td>1</td>\n",
       "      <td>0</td>\n",
       "      <td>0</td>\n",
       "      <td>0.013699</td>\n",
       "      <td>85</td>\n",
       "    </tr>\n",
       "  </tbody>\n",
       "</table>\n",
       "<p>5 rows × 21 columns</p>\n",
       "</div>"
      ],
      "text/plain": [
       "        Total Number of Characters C  Vocabulary richness W/C  Account  \\\n",
       "10776                            407                 0.105651        0   \n",
       "817702                          2963                 0.116436        0   \n",
       "290748                          5101                 0.136052        0   \n",
       "363470                          1177                 0.124894        0   \n",
       "452314                          1296                 0.112654        1   \n",
       "\n",
       "        Access  Bank  Credit  Click  Identity  Inconvenience  Information  \\\n",
       "10776        0     0       0      0         0              0            0   \n",
       "817702       0     0       0      2         0              0            0   \n",
       "290748       0     0       0      0         0              0            3   \n",
       "363470       1     0       0      0         0              0            0   \n",
       "452314       0     0       0      0         0              0            0   \n",
       "\n",
       "        ...  Minutes  Password  Recently  Risk  Social  Security  Service  \\\n",
       "10776   ...        0         0         0     0       0         0        0   \n",
       "817702  ...        0         0         0     0       0         5        0   \n",
       "290748  ...        0         0         1     1       0         0        0   \n",
       "363470  ...        0         0         0     0       0         1        0   \n",
       "452314  ...        0         0         0     0       0         1        0   \n",
       "\n",
       "        Suspended  Total number of Function words/W  Unique Words  \n",
       "10776           0                          0.000000            41  \n",
       "817702          0                          0.020290            97  \n",
       "290748          0                          0.007205           386  \n",
       "363470          0                          0.013605           103  \n",
       "452314          0                          0.013699            85  \n",
       "\n",
       "[5 rows x 21 columns]"
      ]
     },
     "execution_count": 48,
     "metadata": {},
     "output_type": "execute_result"
    }
   ],
   "source": [
    "xtrain.head() "
   ]
  },
  {
   "cell_type": "code",
   "execution_count": 49,
   "id": "54639d69",
   "metadata": {},
   "outputs": [],
   "source": [
    "train,  test = train_test_split(df, train_size=.75,random_state=42) "
   ]
  },
  {
   "cell_type": "code",
   "execution_count": 50,
   "id": "a64ad78f",
   "metadata": {},
   "outputs": [],
   "source": [
    "train.to_csv('train_data.csv')"
   ]
  },
  {
   "cell_type": "code",
   "execution_count": 51,
   "id": "03b2477b",
   "metadata": {},
   "outputs": [
    {
     "data": {
      "text/html": [
       "<div>\n",
       "<style scoped>\n",
       "    .dataframe tbody tr th:only-of-type {\n",
       "        vertical-align: middle;\n",
       "    }\n",
       "\n",
       "    .dataframe tbody tr th {\n",
       "        vertical-align: top;\n",
       "    }\n",
       "\n",
       "    .dataframe thead th {\n",
       "        text-align: right;\n",
       "    }\n",
       "</style>\n",
       "<table border=\"1\" class=\"dataframe\">\n",
       "  <thead>\n",
       "    <tr style=\"text-align: right;\">\n",
       "      <th></th>\n",
       "      <th>Total Number of Characters C</th>\n",
       "      <th>Vocabulary richness W/C</th>\n",
       "      <th>Account</th>\n",
       "      <th>Access</th>\n",
       "      <th>Bank</th>\n",
       "      <th>Credit</th>\n",
       "      <th>Click</th>\n",
       "      <th>Identity</th>\n",
       "      <th>Inconvenience</th>\n",
       "      <th>Information</th>\n",
       "      <th>...</th>\n",
       "      <th>Minutes</th>\n",
       "      <th>Password</th>\n",
       "      <th>Recently</th>\n",
       "      <th>Risk</th>\n",
       "      <th>Social</th>\n",
       "      <th>Security</th>\n",
       "      <th>Service</th>\n",
       "      <th>Suspended</th>\n",
       "      <th>Total number of Function words/W</th>\n",
       "      <th>Unique Words</th>\n",
       "    </tr>\n",
       "  </thead>\n",
       "  <tbody>\n",
       "    <tr>\n",
       "      <th>844795</th>\n",
       "      <td>958</td>\n",
       "      <td>0.108559</td>\n",
       "      <td>0</td>\n",
       "      <td>0</td>\n",
       "      <td>0</td>\n",
       "      <td>0</td>\n",
       "      <td>0</td>\n",
       "      <td>0</td>\n",
       "      <td>0</td>\n",
       "      <td>0</td>\n",
       "      <td>...</td>\n",
       "      <td>0</td>\n",
       "      <td>0</td>\n",
       "      <td>0</td>\n",
       "      <td>0</td>\n",
       "      <td>0</td>\n",
       "      <td>0</td>\n",
       "      <td>0</td>\n",
       "      <td>0</td>\n",
       "      <td>0.000000</td>\n",
       "      <td>40</td>\n",
       "    </tr>\n",
       "    <tr>\n",
       "      <th>498714</th>\n",
       "      <td>1085</td>\n",
       "      <td>0.122581</td>\n",
       "      <td>1</td>\n",
       "      <td>0</td>\n",
       "      <td>0</td>\n",
       "      <td>0</td>\n",
       "      <td>0</td>\n",
       "      <td>0</td>\n",
       "      <td>0</td>\n",
       "      <td>0</td>\n",
       "      <td>...</td>\n",
       "      <td>0</td>\n",
       "      <td>0</td>\n",
       "      <td>0</td>\n",
       "      <td>0</td>\n",
       "      <td>0</td>\n",
       "      <td>0</td>\n",
       "      <td>0</td>\n",
       "      <td>0</td>\n",
       "      <td>0.007519</td>\n",
       "      <td>55</td>\n",
       "    </tr>\n",
       "    <tr>\n",
       "      <th>324019</th>\n",
       "      <td>660</td>\n",
       "      <td>0.103030</td>\n",
       "      <td>0</td>\n",
       "      <td>0</td>\n",
       "      <td>0</td>\n",
       "      <td>0</td>\n",
       "      <td>0</td>\n",
       "      <td>0</td>\n",
       "      <td>0</td>\n",
       "      <td>0</td>\n",
       "      <td>...</td>\n",
       "      <td>0</td>\n",
       "      <td>0</td>\n",
       "      <td>0</td>\n",
       "      <td>0</td>\n",
       "      <td>0</td>\n",
       "      <td>0</td>\n",
       "      <td>0</td>\n",
       "      <td>0</td>\n",
       "      <td>0.000000</td>\n",
       "      <td>62</td>\n",
       "    </tr>\n",
       "    <tr>\n",
       "      <th>444004</th>\n",
       "      <td>2125</td>\n",
       "      <td>0.098353</td>\n",
       "      <td>0</td>\n",
       "      <td>0</td>\n",
       "      <td>0</td>\n",
       "      <td>0</td>\n",
       "      <td>0</td>\n",
       "      <td>0</td>\n",
       "      <td>0</td>\n",
       "      <td>0</td>\n",
       "      <td>...</td>\n",
       "      <td>0</td>\n",
       "      <td>0</td>\n",
       "      <td>0</td>\n",
       "      <td>0</td>\n",
       "      <td>0</td>\n",
       "      <td>0</td>\n",
       "      <td>0</td>\n",
       "      <td>0</td>\n",
       "      <td>0.000000</td>\n",
       "      <td>170</td>\n",
       "    </tr>\n",
       "    <tr>\n",
       "      <th>26306</th>\n",
       "      <td>1518</td>\n",
       "      <td>0.146245</td>\n",
       "      <td>0</td>\n",
       "      <td>0</td>\n",
       "      <td>0</td>\n",
       "      <td>0</td>\n",
       "      <td>0</td>\n",
       "      <td>0</td>\n",
       "      <td>0</td>\n",
       "      <td>0</td>\n",
       "      <td>...</td>\n",
       "      <td>0</td>\n",
       "      <td>0</td>\n",
       "      <td>0</td>\n",
       "      <td>5</td>\n",
       "      <td>0</td>\n",
       "      <td>0</td>\n",
       "      <td>0</td>\n",
       "      <td>0</td>\n",
       "      <td>0.022523</td>\n",
       "      <td>134</td>\n",
       "    </tr>\n",
       "  </tbody>\n",
       "</table>\n",
       "<p>5 rows × 21 columns</p>\n",
       "</div>"
      ],
      "text/plain": [
       "        Total Number of Characters C  Vocabulary richness W/C  Account  \\\n",
       "844795                           958                 0.108559        0   \n",
       "498714                          1085                 0.122581        1   \n",
       "324019                           660                 0.103030        0   \n",
       "444004                          2125                 0.098353        0   \n",
       "26306                           1518                 0.146245        0   \n",
       "\n",
       "        Access  Bank  Credit  Click  Identity  Inconvenience  Information  \\\n",
       "844795       0     0       0      0         0              0            0   \n",
       "498714       0     0       0      0         0              0            0   \n",
       "324019       0     0       0      0         0              0            0   \n",
       "444004       0     0       0      0         0              0            0   \n",
       "26306        0     0       0      0         0              0            0   \n",
       "\n",
       "        ...  Minutes  Password  Recently  Risk  Social  Security  Service  \\\n",
       "844795  ...        0         0         0     0       0         0        0   \n",
       "498714  ...        0         0         0     0       0         0        0   \n",
       "324019  ...        0         0         0     0       0         0        0   \n",
       "444004  ...        0         0         0     0       0         0        0   \n",
       "26306   ...        0         0         0     5       0         0        0   \n",
       "\n",
       "        Suspended  Total number of Function words/W  Unique Words  \n",
       "844795          0                          0.000000            40  \n",
       "498714          0                          0.007519            55  \n",
       "324019          0                          0.000000            62  \n",
       "444004          0                          0.000000           170  \n",
       "26306           0                          0.022523           134  \n",
       "\n",
       "[5 rows x 21 columns]"
      ]
     },
     "execution_count": 51,
     "metadata": {},
     "output_type": "execute_result"
    }
   ],
   "source": [
    "xtest.head()"
   ]
  },
  {
   "cell_type": "code",
   "execution_count": 52,
   "id": "41ad2ba7",
   "metadata": {},
   "outputs": [
    {
     "data": {
      "text/plain": [
       "(221423, 21)"
      ]
     },
     "execution_count": 52,
     "metadata": {},
     "output_type": "execute_result"
    }
   ],
   "source": [
    "xtest.shape"
   ]
  },
  {
   "cell_type": "code",
   "execution_count": 53,
   "id": "19769c9b",
   "metadata": {},
   "outputs": [],
   "source": [
    "from sklearn.tree import DecisionTreeClassifier"
   ]
  },
  {
   "cell_type": "code",
   "execution_count": 54,
   "id": "7625d3fb",
   "metadata": {},
   "outputs": [],
   "source": [
    "Clf = DecisionTreeClassifier() "
   ]
  },
  {
   "cell_type": "code",
   "execution_count": 55,
   "id": "b500efb2",
   "metadata": {},
   "outputs": [
    {
     "data": {
      "text/html": [
       "<style>#sk-container-id-1 {color: black;background-color: white;}#sk-container-id-1 pre{padding: 0;}#sk-container-id-1 div.sk-toggleable {background-color: white;}#sk-container-id-1 label.sk-toggleable__label {cursor: pointer;display: block;width: 100%;margin-bottom: 0;padding: 0.3em;box-sizing: border-box;text-align: center;}#sk-container-id-1 label.sk-toggleable__label-arrow:before {content: \"▸\";float: left;margin-right: 0.25em;color: #696969;}#sk-container-id-1 label.sk-toggleable__label-arrow:hover:before {color: black;}#sk-container-id-1 div.sk-estimator:hover label.sk-toggleable__label-arrow:before {color: black;}#sk-container-id-1 div.sk-toggleable__content {max-height: 0;max-width: 0;overflow: hidden;text-align: left;background-color: #f0f8ff;}#sk-container-id-1 div.sk-toggleable__content pre {margin: 0.2em;color: black;border-radius: 0.25em;background-color: #f0f8ff;}#sk-container-id-1 input.sk-toggleable__control:checked~div.sk-toggleable__content {max-height: 200px;max-width: 100%;overflow: auto;}#sk-container-id-1 input.sk-toggleable__control:checked~label.sk-toggleable__label-arrow:before {content: \"▾\";}#sk-container-id-1 div.sk-estimator input.sk-toggleable__control:checked~label.sk-toggleable__label {background-color: #d4ebff;}#sk-container-id-1 div.sk-label input.sk-toggleable__control:checked~label.sk-toggleable__label {background-color: #d4ebff;}#sk-container-id-1 input.sk-hidden--visually {border: 0;clip: rect(1px 1px 1px 1px);clip: rect(1px, 1px, 1px, 1px);height: 1px;margin: -1px;overflow: hidden;padding: 0;position: absolute;width: 1px;}#sk-container-id-1 div.sk-estimator {font-family: monospace;background-color: #f0f8ff;border: 1px dotted black;border-radius: 0.25em;box-sizing: border-box;margin-bottom: 0.5em;}#sk-container-id-1 div.sk-estimator:hover {background-color: #d4ebff;}#sk-container-id-1 div.sk-parallel-item::after {content: \"\";width: 100%;border-bottom: 1px solid gray;flex-grow: 1;}#sk-container-id-1 div.sk-label:hover label.sk-toggleable__label {background-color: #d4ebff;}#sk-container-id-1 div.sk-serial::before {content: \"\";position: absolute;border-left: 1px solid gray;box-sizing: border-box;top: 0;bottom: 0;left: 50%;z-index: 0;}#sk-container-id-1 div.sk-serial {display: flex;flex-direction: column;align-items: center;background-color: white;padding-right: 0.2em;padding-left: 0.2em;position: relative;}#sk-container-id-1 div.sk-item {position: relative;z-index: 1;}#sk-container-id-1 div.sk-parallel {display: flex;align-items: stretch;justify-content: center;background-color: white;position: relative;}#sk-container-id-1 div.sk-item::before, #sk-container-id-1 div.sk-parallel-item::before {content: \"\";position: absolute;border-left: 1px solid gray;box-sizing: border-box;top: 0;bottom: 0;left: 50%;z-index: -1;}#sk-container-id-1 div.sk-parallel-item {display: flex;flex-direction: column;z-index: 1;position: relative;background-color: white;}#sk-container-id-1 div.sk-parallel-item:first-child::after {align-self: flex-end;width: 50%;}#sk-container-id-1 div.sk-parallel-item:last-child::after {align-self: flex-start;width: 50%;}#sk-container-id-1 div.sk-parallel-item:only-child::after {width: 0;}#sk-container-id-1 div.sk-dashed-wrapped {border: 1px dashed gray;margin: 0 0.4em 0.5em 0.4em;box-sizing: border-box;padding-bottom: 0.4em;background-color: white;}#sk-container-id-1 div.sk-label label {font-family: monospace;font-weight: bold;display: inline-block;line-height: 1.2em;}#sk-container-id-1 div.sk-label-container {text-align: center;}#sk-container-id-1 div.sk-container {/* jupyter's `normalize.less` sets `[hidden] { display: none; }` but bootstrap.min.css set `[hidden] { display: none !important; }` so we also need the `!important` here to be able to override the default hidden behavior on the sphinx rendered scikit-learn.org. See: https://github.com/scikit-learn/scikit-learn/issues/21755 */display: inline-block !important;position: relative;}#sk-container-id-1 div.sk-text-repr-fallback {display: none;}</style><div id=\"sk-container-id-1\" class=\"sk-top-container\"><div class=\"sk-text-repr-fallback\"><pre>DecisionTreeClassifier()</pre><b>In a Jupyter environment, please rerun this cell to show the HTML representation or trust the notebook. <br />On GitHub, the HTML representation is unable to render, please try loading this page with nbviewer.org.</b></div><div class=\"sk-container\" hidden><div class=\"sk-item\"><div class=\"sk-estimator sk-toggleable\"><input class=\"sk-toggleable__control sk-hidden--visually\" id=\"sk-estimator-id-1\" type=\"checkbox\" checked><label for=\"sk-estimator-id-1\" class=\"sk-toggleable__label sk-toggleable__label-arrow\">DecisionTreeClassifier</label><div class=\"sk-toggleable__content\"><pre>DecisionTreeClassifier()</pre></div></div></div></div></div>"
      ],
      "text/plain": [
       "DecisionTreeClassifier()"
      ]
     },
     "execution_count": 55,
     "metadata": {},
     "output_type": "execute_result"
    }
   ],
   "source": [
    "Clf.fit(xtrain,ytrain) "
   ]
  },
  {
   "cell_type": "code",
   "execution_count": 56,
   "id": "8392422f",
   "metadata": {},
   "outputs": [
    {
     "data": {
      "text/plain": [
       "0.9979270446159613"
      ]
     },
     "execution_count": 56,
     "metadata": {},
     "output_type": "execute_result"
    }
   ],
   "source": [
    "Clf.score(xtest,ytest)"
   ]
  },
  {
   "cell_type": "markdown",
   "id": "62f83409",
   "metadata": {},
   "source": [
    "# XGBoost Classifier"
   ]
  },
  {
   "cell_type": "code",
   "execution_count": 57,
   "id": "e05f1a4b",
   "metadata": {},
   "outputs": [
    {
     "name": "stdout",
     "output_type": "stream",
     "text": [
      "Requirement already satisfied: xgboost in c:\\users\\my\\anaconda3\\lib\\site-packages (1.6.0)\n",
      "Requirement already satisfied: scipy in c:\\users\\my\\anaconda3\\lib\\site-packages (from xgboost) (1.7.1)\n",
      "Requirement already satisfied: numpy in c:\\users\\my\\anaconda3\\lib\\site-packages (from xgboost) (1.20.3)\n"
     ]
    }
   ],
   "source": [
    "!pip install xgboost"
   ]
  },
  {
   "cell_type": "code",
   "execution_count": 58,
   "id": "eff3ac04",
   "metadata": {},
   "outputs": [],
   "source": [
    "import xgboost \n",
    "from xgboost import XGBClassifier"
   ]
  },
  {
   "cell_type": "code",
   "execution_count": 59,
   "id": "72ff2c0e",
   "metadata": {},
   "outputs": [],
   "source": [
    "xgb = XGBClassifier()"
   ]
  },
  {
   "cell_type": "code",
   "execution_count": 60,
   "id": "13f7e7b1",
   "metadata": {},
   "outputs": [
    {
     "data": {
      "text/html": [
       "<style>#sk-container-id-2 {color: black;background-color: white;}#sk-container-id-2 pre{padding: 0;}#sk-container-id-2 div.sk-toggleable {background-color: white;}#sk-container-id-2 label.sk-toggleable__label {cursor: pointer;display: block;width: 100%;margin-bottom: 0;padding: 0.3em;box-sizing: border-box;text-align: center;}#sk-container-id-2 label.sk-toggleable__label-arrow:before {content: \"▸\";float: left;margin-right: 0.25em;color: #696969;}#sk-container-id-2 label.sk-toggleable__label-arrow:hover:before {color: black;}#sk-container-id-2 div.sk-estimator:hover label.sk-toggleable__label-arrow:before {color: black;}#sk-container-id-2 div.sk-toggleable__content {max-height: 0;max-width: 0;overflow: hidden;text-align: left;background-color: #f0f8ff;}#sk-container-id-2 div.sk-toggleable__content pre {margin: 0.2em;color: black;border-radius: 0.25em;background-color: #f0f8ff;}#sk-container-id-2 input.sk-toggleable__control:checked~div.sk-toggleable__content {max-height: 200px;max-width: 100%;overflow: auto;}#sk-container-id-2 input.sk-toggleable__control:checked~label.sk-toggleable__label-arrow:before {content: \"▾\";}#sk-container-id-2 div.sk-estimator input.sk-toggleable__control:checked~label.sk-toggleable__label {background-color: #d4ebff;}#sk-container-id-2 div.sk-label input.sk-toggleable__control:checked~label.sk-toggleable__label {background-color: #d4ebff;}#sk-container-id-2 input.sk-hidden--visually {border: 0;clip: rect(1px 1px 1px 1px);clip: rect(1px, 1px, 1px, 1px);height: 1px;margin: -1px;overflow: hidden;padding: 0;position: absolute;width: 1px;}#sk-container-id-2 div.sk-estimator {font-family: monospace;background-color: #f0f8ff;border: 1px dotted black;border-radius: 0.25em;box-sizing: border-box;margin-bottom: 0.5em;}#sk-container-id-2 div.sk-estimator:hover {background-color: #d4ebff;}#sk-container-id-2 div.sk-parallel-item::after {content: \"\";width: 100%;border-bottom: 1px solid gray;flex-grow: 1;}#sk-container-id-2 div.sk-label:hover label.sk-toggleable__label {background-color: #d4ebff;}#sk-container-id-2 div.sk-serial::before {content: \"\";position: absolute;border-left: 1px solid gray;box-sizing: border-box;top: 0;bottom: 0;left: 50%;z-index: 0;}#sk-container-id-2 div.sk-serial {display: flex;flex-direction: column;align-items: center;background-color: white;padding-right: 0.2em;padding-left: 0.2em;position: relative;}#sk-container-id-2 div.sk-item {position: relative;z-index: 1;}#sk-container-id-2 div.sk-parallel {display: flex;align-items: stretch;justify-content: center;background-color: white;position: relative;}#sk-container-id-2 div.sk-item::before, #sk-container-id-2 div.sk-parallel-item::before {content: \"\";position: absolute;border-left: 1px solid gray;box-sizing: border-box;top: 0;bottom: 0;left: 50%;z-index: -1;}#sk-container-id-2 div.sk-parallel-item {display: flex;flex-direction: column;z-index: 1;position: relative;background-color: white;}#sk-container-id-2 div.sk-parallel-item:first-child::after {align-self: flex-end;width: 50%;}#sk-container-id-2 div.sk-parallel-item:last-child::after {align-self: flex-start;width: 50%;}#sk-container-id-2 div.sk-parallel-item:only-child::after {width: 0;}#sk-container-id-2 div.sk-dashed-wrapped {border: 1px dashed gray;margin: 0 0.4em 0.5em 0.4em;box-sizing: border-box;padding-bottom: 0.4em;background-color: white;}#sk-container-id-2 div.sk-label label {font-family: monospace;font-weight: bold;display: inline-block;line-height: 1.2em;}#sk-container-id-2 div.sk-label-container {text-align: center;}#sk-container-id-2 div.sk-container {/* jupyter's `normalize.less` sets `[hidden] { display: none; }` but bootstrap.min.css set `[hidden] { display: none !important; }` so we also need the `!important` here to be able to override the default hidden behavior on the sphinx rendered scikit-learn.org. See: https://github.com/scikit-learn/scikit-learn/issues/21755 */display: inline-block !important;position: relative;}#sk-container-id-2 div.sk-text-repr-fallback {display: none;}</style><div id=\"sk-container-id-2\" class=\"sk-top-container\"><div class=\"sk-text-repr-fallback\"><pre>XGBClassifier(base_score=0.5, booster=&#x27;gbtree&#x27;, callbacks=None,\n",
       "              colsample_bylevel=1, colsample_bynode=1, colsample_bytree=1,\n",
       "              early_stopping_rounds=None, enable_categorical=False,\n",
       "              eval_metric=None, gamma=0, gpu_id=-1, grow_policy=&#x27;depthwise&#x27;,\n",
       "              importance_type=None, interaction_constraints=&#x27;&#x27;,\n",
       "              learning_rate=0.300000012, max_bin=256, max_cat_to_onehot=4,\n",
       "              max_delta_step=0, max_depth=6, max_leaves=0, min_child_weight=1,\n",
       "              missing=nan, monotone_constraints=&#x27;()&#x27;, n_estimators=100,\n",
       "              n_jobs=0, num_parallel_tree=1, predictor=&#x27;auto&#x27;, random_state=0,\n",
       "              reg_alpha=0, reg_lambda=1, ...)</pre><b>In a Jupyter environment, please rerun this cell to show the HTML representation or trust the notebook. <br />On GitHub, the HTML representation is unable to render, please try loading this page with nbviewer.org.</b></div><div class=\"sk-container\" hidden><div class=\"sk-item\"><div class=\"sk-estimator sk-toggleable\"><input class=\"sk-toggleable__control sk-hidden--visually\" id=\"sk-estimator-id-2\" type=\"checkbox\" checked><label for=\"sk-estimator-id-2\" class=\"sk-toggleable__label sk-toggleable__label-arrow\">XGBClassifier</label><div class=\"sk-toggleable__content\"><pre>XGBClassifier(base_score=0.5, booster=&#x27;gbtree&#x27;, callbacks=None,\n",
       "              colsample_bylevel=1, colsample_bynode=1, colsample_bytree=1,\n",
       "              early_stopping_rounds=None, enable_categorical=False,\n",
       "              eval_metric=None, gamma=0, gpu_id=-1, grow_policy=&#x27;depthwise&#x27;,\n",
       "              importance_type=None, interaction_constraints=&#x27;&#x27;,\n",
       "              learning_rate=0.300000012, max_bin=256, max_cat_to_onehot=4,\n",
       "              max_delta_step=0, max_depth=6, max_leaves=0, min_child_weight=1,\n",
       "              missing=nan, monotone_constraints=&#x27;()&#x27;, n_estimators=100,\n",
       "              n_jobs=0, num_parallel_tree=1, predictor=&#x27;auto&#x27;, random_state=0,\n",
       "              reg_alpha=0, reg_lambda=1, ...)</pre></div></div></div></div></div>"
      ],
      "text/plain": [
       "XGBClassifier(base_score=0.5, booster='gbtree', callbacks=None,\n",
       "              colsample_bylevel=1, colsample_bynode=1, colsample_bytree=1,\n",
       "              early_stopping_rounds=None, enable_categorical=False,\n",
       "              eval_metric=None, gamma=0, gpu_id=-1, grow_policy='depthwise',\n",
       "              importance_type=None, interaction_constraints='',\n",
       "              learning_rate=0.300000012, max_bin=256, max_cat_to_onehot=4,\n",
       "              max_delta_step=0, max_depth=6, max_leaves=0, min_child_weight=1,\n",
       "              missing=nan, monotone_constraints='()', n_estimators=100,\n",
       "              n_jobs=0, num_parallel_tree=1, predictor='auto', random_state=0,\n",
       "              reg_alpha=0, reg_lambda=1, ...)"
      ]
     },
     "execution_count": 60,
     "metadata": {},
     "output_type": "execute_result"
    }
   ],
   "source": [
    "xgb.fit(xtrain,ytrain)"
   ]
  },
  {
   "cell_type": "code",
   "execution_count": 61,
   "id": "d0fb67ea",
   "metadata": {},
   "outputs": [
    {
     "data": {
      "text/plain": [
       "0.979089796452943"
      ]
     },
     "execution_count": 61,
     "metadata": {},
     "output_type": "execute_result"
    }
   ],
   "source": [
    "xgb.score(xtest,ytest)"
   ]
  },
  {
   "cell_type": "markdown",
   "id": "a6e57e06",
   "metadata": {},
   "source": [
    "# Ada Boost"
   ]
  },
  {
   "cell_type": "code",
   "execution_count": 62,
   "id": "0038615d",
   "metadata": {},
   "outputs": [],
   "source": [
    "from sklearn.ensemble import AdaBoostClassifier"
   ]
  },
  {
   "cell_type": "code",
   "execution_count": 63,
   "id": "f6365be3",
   "metadata": {},
   "outputs": [],
   "source": [
    "ada = AdaBoostClassifier()"
   ]
  },
  {
   "cell_type": "code",
   "execution_count": 64,
   "id": "045d5082",
   "metadata": {},
   "outputs": [
    {
     "data": {
      "text/html": [
       "<style>#sk-container-id-3 {color: black;background-color: white;}#sk-container-id-3 pre{padding: 0;}#sk-container-id-3 div.sk-toggleable {background-color: white;}#sk-container-id-3 label.sk-toggleable__label {cursor: pointer;display: block;width: 100%;margin-bottom: 0;padding: 0.3em;box-sizing: border-box;text-align: center;}#sk-container-id-3 label.sk-toggleable__label-arrow:before {content: \"▸\";float: left;margin-right: 0.25em;color: #696969;}#sk-container-id-3 label.sk-toggleable__label-arrow:hover:before {color: black;}#sk-container-id-3 div.sk-estimator:hover label.sk-toggleable__label-arrow:before {color: black;}#sk-container-id-3 div.sk-toggleable__content {max-height: 0;max-width: 0;overflow: hidden;text-align: left;background-color: #f0f8ff;}#sk-container-id-3 div.sk-toggleable__content pre {margin: 0.2em;color: black;border-radius: 0.25em;background-color: #f0f8ff;}#sk-container-id-3 input.sk-toggleable__control:checked~div.sk-toggleable__content {max-height: 200px;max-width: 100%;overflow: auto;}#sk-container-id-3 input.sk-toggleable__control:checked~label.sk-toggleable__label-arrow:before {content: \"▾\";}#sk-container-id-3 div.sk-estimator input.sk-toggleable__control:checked~label.sk-toggleable__label {background-color: #d4ebff;}#sk-container-id-3 div.sk-label input.sk-toggleable__control:checked~label.sk-toggleable__label {background-color: #d4ebff;}#sk-container-id-3 input.sk-hidden--visually {border: 0;clip: rect(1px 1px 1px 1px);clip: rect(1px, 1px, 1px, 1px);height: 1px;margin: -1px;overflow: hidden;padding: 0;position: absolute;width: 1px;}#sk-container-id-3 div.sk-estimator {font-family: monospace;background-color: #f0f8ff;border: 1px dotted black;border-radius: 0.25em;box-sizing: border-box;margin-bottom: 0.5em;}#sk-container-id-3 div.sk-estimator:hover {background-color: #d4ebff;}#sk-container-id-3 div.sk-parallel-item::after {content: \"\";width: 100%;border-bottom: 1px solid gray;flex-grow: 1;}#sk-container-id-3 div.sk-label:hover label.sk-toggleable__label {background-color: #d4ebff;}#sk-container-id-3 div.sk-serial::before {content: \"\";position: absolute;border-left: 1px solid gray;box-sizing: border-box;top: 0;bottom: 0;left: 50%;z-index: 0;}#sk-container-id-3 div.sk-serial {display: flex;flex-direction: column;align-items: center;background-color: white;padding-right: 0.2em;padding-left: 0.2em;position: relative;}#sk-container-id-3 div.sk-item {position: relative;z-index: 1;}#sk-container-id-3 div.sk-parallel {display: flex;align-items: stretch;justify-content: center;background-color: white;position: relative;}#sk-container-id-3 div.sk-item::before, #sk-container-id-3 div.sk-parallel-item::before {content: \"\";position: absolute;border-left: 1px solid gray;box-sizing: border-box;top: 0;bottom: 0;left: 50%;z-index: -1;}#sk-container-id-3 div.sk-parallel-item {display: flex;flex-direction: column;z-index: 1;position: relative;background-color: white;}#sk-container-id-3 div.sk-parallel-item:first-child::after {align-self: flex-end;width: 50%;}#sk-container-id-3 div.sk-parallel-item:last-child::after {align-self: flex-start;width: 50%;}#sk-container-id-3 div.sk-parallel-item:only-child::after {width: 0;}#sk-container-id-3 div.sk-dashed-wrapped {border: 1px dashed gray;margin: 0 0.4em 0.5em 0.4em;box-sizing: border-box;padding-bottom: 0.4em;background-color: white;}#sk-container-id-3 div.sk-label label {font-family: monospace;font-weight: bold;display: inline-block;line-height: 1.2em;}#sk-container-id-3 div.sk-label-container {text-align: center;}#sk-container-id-3 div.sk-container {/* jupyter's `normalize.less` sets `[hidden] { display: none; }` but bootstrap.min.css set `[hidden] { display: none !important; }` so we also need the `!important` here to be able to override the default hidden behavior on the sphinx rendered scikit-learn.org. See: https://github.com/scikit-learn/scikit-learn/issues/21755 */display: inline-block !important;position: relative;}#sk-container-id-3 div.sk-text-repr-fallback {display: none;}</style><div id=\"sk-container-id-3\" class=\"sk-top-container\"><div class=\"sk-text-repr-fallback\"><pre>AdaBoostClassifier()</pre><b>In a Jupyter environment, please rerun this cell to show the HTML representation or trust the notebook. <br />On GitHub, the HTML representation is unable to render, please try loading this page with nbviewer.org.</b></div><div class=\"sk-container\" hidden><div class=\"sk-item\"><div class=\"sk-estimator sk-toggleable\"><input class=\"sk-toggleable__control sk-hidden--visually\" id=\"sk-estimator-id-3\" type=\"checkbox\" checked><label for=\"sk-estimator-id-3\" class=\"sk-toggleable__label sk-toggleable__label-arrow\">AdaBoostClassifier</label><div class=\"sk-toggleable__content\"><pre>AdaBoostClassifier()</pre></div></div></div></div></div>"
      ],
      "text/plain": [
       "AdaBoostClassifier()"
      ]
     },
     "execution_count": 64,
     "metadata": {},
     "output_type": "execute_result"
    }
   ],
   "source": [
    "ada.fit(xtrain,ytrain)"
   ]
  },
  {
   "cell_type": "code",
   "execution_count": 65,
   "id": "a04bab07",
   "metadata": {},
   "outputs": [
    {
     "data": {
      "text/plain": [
       "0.923196777209233"
      ]
     },
     "execution_count": 65,
     "metadata": {},
     "output_type": "execute_result"
    }
   ],
   "source": [
    "ada.score(xtest,ytest)"
   ]
  },
  {
   "cell_type": "code",
   "execution_count": null,
   "id": "f8f89d6e",
   "metadata": {},
   "outputs": [],
   "source": []
  },
  {
   "cell_type": "markdown",
   "id": "2b089be7",
   "metadata": {},
   "source": [
    "# Before Sampling"
   ]
  },
  {
   "cell_type": "code",
   "execution_count": 66,
   "id": "2a3cdd3a",
   "metadata": {},
   "outputs": [],
   "source": [
    "xtrain1,xtest1, ytrain1,ytest1 = train_test_split(x, y, train_size=.75,random_state=42) "
   ]
  },
  {
   "cell_type": "code",
   "execution_count": 67,
   "id": "9b0aa16e",
   "metadata": {},
   "outputs": [
    {
     "data": {
      "text/html": [
       "<style>#sk-container-id-4 {color: black;background-color: white;}#sk-container-id-4 pre{padding: 0;}#sk-container-id-4 div.sk-toggleable {background-color: white;}#sk-container-id-4 label.sk-toggleable__label {cursor: pointer;display: block;width: 100%;margin-bottom: 0;padding: 0.3em;box-sizing: border-box;text-align: center;}#sk-container-id-4 label.sk-toggleable__label-arrow:before {content: \"▸\";float: left;margin-right: 0.25em;color: #696969;}#sk-container-id-4 label.sk-toggleable__label-arrow:hover:before {color: black;}#sk-container-id-4 div.sk-estimator:hover label.sk-toggleable__label-arrow:before {color: black;}#sk-container-id-4 div.sk-toggleable__content {max-height: 0;max-width: 0;overflow: hidden;text-align: left;background-color: #f0f8ff;}#sk-container-id-4 div.sk-toggleable__content pre {margin: 0.2em;color: black;border-radius: 0.25em;background-color: #f0f8ff;}#sk-container-id-4 input.sk-toggleable__control:checked~div.sk-toggleable__content {max-height: 200px;max-width: 100%;overflow: auto;}#sk-container-id-4 input.sk-toggleable__control:checked~label.sk-toggleable__label-arrow:before {content: \"▾\";}#sk-container-id-4 div.sk-estimator input.sk-toggleable__control:checked~label.sk-toggleable__label {background-color: #d4ebff;}#sk-container-id-4 div.sk-label input.sk-toggleable__control:checked~label.sk-toggleable__label {background-color: #d4ebff;}#sk-container-id-4 input.sk-hidden--visually {border: 0;clip: rect(1px 1px 1px 1px);clip: rect(1px, 1px, 1px, 1px);height: 1px;margin: -1px;overflow: hidden;padding: 0;position: absolute;width: 1px;}#sk-container-id-4 div.sk-estimator {font-family: monospace;background-color: #f0f8ff;border: 1px dotted black;border-radius: 0.25em;box-sizing: border-box;margin-bottom: 0.5em;}#sk-container-id-4 div.sk-estimator:hover {background-color: #d4ebff;}#sk-container-id-4 div.sk-parallel-item::after {content: \"\";width: 100%;border-bottom: 1px solid gray;flex-grow: 1;}#sk-container-id-4 div.sk-label:hover label.sk-toggleable__label {background-color: #d4ebff;}#sk-container-id-4 div.sk-serial::before {content: \"\";position: absolute;border-left: 1px solid gray;box-sizing: border-box;top: 0;bottom: 0;left: 50%;z-index: 0;}#sk-container-id-4 div.sk-serial {display: flex;flex-direction: column;align-items: center;background-color: white;padding-right: 0.2em;padding-left: 0.2em;position: relative;}#sk-container-id-4 div.sk-item {position: relative;z-index: 1;}#sk-container-id-4 div.sk-parallel {display: flex;align-items: stretch;justify-content: center;background-color: white;position: relative;}#sk-container-id-4 div.sk-item::before, #sk-container-id-4 div.sk-parallel-item::before {content: \"\";position: absolute;border-left: 1px solid gray;box-sizing: border-box;top: 0;bottom: 0;left: 50%;z-index: -1;}#sk-container-id-4 div.sk-parallel-item {display: flex;flex-direction: column;z-index: 1;position: relative;background-color: white;}#sk-container-id-4 div.sk-parallel-item:first-child::after {align-self: flex-end;width: 50%;}#sk-container-id-4 div.sk-parallel-item:last-child::after {align-self: flex-start;width: 50%;}#sk-container-id-4 div.sk-parallel-item:only-child::after {width: 0;}#sk-container-id-4 div.sk-dashed-wrapped {border: 1px dashed gray;margin: 0 0.4em 0.5em 0.4em;box-sizing: border-box;padding-bottom: 0.4em;background-color: white;}#sk-container-id-4 div.sk-label label {font-family: monospace;font-weight: bold;display: inline-block;line-height: 1.2em;}#sk-container-id-4 div.sk-label-container {text-align: center;}#sk-container-id-4 div.sk-container {/* jupyter's `normalize.less` sets `[hidden] { display: none; }` but bootstrap.min.css set `[hidden] { display: none !important; }` so we also need the `!important` here to be able to override the default hidden behavior on the sphinx rendered scikit-learn.org. See: https://github.com/scikit-learn/scikit-learn/issues/21755 */display: inline-block !important;position: relative;}#sk-container-id-4 div.sk-text-repr-fallback {display: none;}</style><div id=\"sk-container-id-4\" class=\"sk-top-container\"><div class=\"sk-text-repr-fallback\"><pre>DecisionTreeClassifier()</pre><b>In a Jupyter environment, please rerun this cell to show the HTML representation or trust the notebook. <br />On GitHub, the HTML representation is unable to render, please try loading this page with nbviewer.org.</b></div><div class=\"sk-container\" hidden><div class=\"sk-item\"><div class=\"sk-estimator sk-toggleable\"><input class=\"sk-toggleable__control sk-hidden--visually\" id=\"sk-estimator-id-4\" type=\"checkbox\" checked><label for=\"sk-estimator-id-4\" class=\"sk-toggleable__label sk-toggleable__label-arrow\">DecisionTreeClassifier</label><div class=\"sk-toggleable__content\"><pre>DecisionTreeClassifier()</pre></div></div></div></div></div>"
      ],
      "text/plain": [
       "DecisionTreeClassifier()"
      ]
     },
     "execution_count": 67,
     "metadata": {},
     "output_type": "execute_result"
    }
   ],
   "source": [
    "Clf.fit(xtrain1,ytrain1) "
   ]
  },
  {
   "cell_type": "code",
   "execution_count": 68,
   "id": "06e4fa2a",
   "metadata": {},
   "outputs": [
    {
     "data": {
      "text/plain": [
       "0.9912655623736388"
      ]
     },
     "execution_count": 68,
     "metadata": {},
     "output_type": "execute_result"
    }
   ],
   "source": [
    "Clf.score(xtest1,ytest1)"
   ]
  },
  {
   "cell_type": "code",
   "execution_count": null,
   "id": "47c7d07d",
   "metadata": {},
   "outputs": [],
   "source": []
  },
  {
   "cell_type": "markdown",
   "id": "a7edf8fd",
   "metadata": {},
   "source": [
    "# Cross Validation"
   ]
  },
  {
   "cell_type": "markdown",
   "id": "42408ab9",
   "metadata": {},
   "source": [
    "# K Fold Cross Validation"
   ]
  },
  {
   "cell_type": "code",
   "execution_count": 69,
   "id": "be881796",
   "metadata": {},
   "outputs": [],
   "source": [
    "from sklearn.model_selection import KFold, cross_val_score, cross_validate"
   ]
  },
  {
   "cell_type": "code",
   "execution_count": 70,
   "id": "54d674d4",
   "metadata": {},
   "outputs": [],
   "source": [
    "kfold = KFold(n_splits=4) #each fold contain 25% data"
   ]
  },
  {
   "cell_type": "code",
   "execution_count": 71,
   "id": "114df71e",
   "metadata": {},
   "outputs": [],
   "source": [
    "result = cross_val_score(xgb, x_new, y_new,cv=kfold) "
   ]
  },
  {
   "cell_type": "code",
   "execution_count": 72,
   "id": "852574c7",
   "metadata": {},
   "outputs": [
    {
     "data": {
      "text/plain": [
       "array([0.953844  , 0.95122458, 0.97243725, 0.96943393])"
      ]
     },
     "execution_count": 72,
     "metadata": {},
     "output_type": "execute_result"
    }
   ],
   "source": [
    "result"
   ]
  },
  {
   "cell_type": "code",
   "execution_count": 73,
   "id": "f2d7d840",
   "metadata": {},
   "outputs": [
    {
     "data": {
      "text/plain": [
       "0.9617349393143193"
      ]
     },
     "execution_count": 73,
     "metadata": {},
     "output_type": "execute_result"
    }
   ],
   "source": [
    "result.mean()"
   ]
  },
  {
   "cell_type": "code",
   "execution_count": 74,
   "id": "0c350695",
   "metadata": {},
   "outputs": [],
   "source": [
    "cross_validate = cross_validate(xgb, x_new, y_new,cv=kfold)"
   ]
  },
  {
   "cell_type": "code",
   "execution_count": 75,
   "id": "0bd51f27",
   "metadata": {},
   "outputs": [
    {
     "data": {
      "text/plain": [
       "{'fit_time': array([28.38255095, 27.71221375, 26.85516429, 26.68120813]),\n",
       " 'score_time': array([0.29680681, 0.21869802, 0.20307946, 0.20307636]),\n",
       " 'test_score': array([0.953844  , 0.95122458, 0.97243725, 0.96943393])}"
      ]
     },
     "execution_count": 75,
     "metadata": {},
     "output_type": "execute_result"
    }
   ],
   "source": [
    "cross_validate"
   ]
  },
  {
   "cell_type": "code",
   "execution_count": 76,
   "id": "861d2257",
   "metadata": {},
   "outputs": [
    {
     "data": {
      "text/plain": [
       "0.9724372465247356"
      ]
     },
     "execution_count": 76,
     "metadata": {},
     "output_type": "execute_result"
    }
   ],
   "source": [
    "result.max()"
   ]
  },
  {
   "cell_type": "code",
   "execution_count": 77,
   "id": "77cd72d7",
   "metadata": {},
   "outputs": [
    {
     "data": {
      "text/plain": [
       "0.9512245791990895"
      ]
     },
     "execution_count": 77,
     "metadata": {},
     "output_type": "execute_result"
    }
   ],
   "source": [
    "result.min()"
   ]
  },
  {
   "cell_type": "code",
   "execution_count": 78,
   "id": "e7f938be",
   "metadata": {},
   "outputs": [
    {
     "data": {
      "text/plain": [
       "0.9617349393143193"
      ]
     },
     "execution_count": 78,
     "metadata": {},
     "output_type": "execute_result"
    }
   ],
   "source": [
    "result.mean()"
   ]
  },
  {
   "cell_type": "markdown",
   "id": "9f37f578",
   "metadata": {},
   "source": [
    "# Stratified k fold cross Validation"
   ]
  },
  {
   "cell_type": "code",
   "execution_count": 79,
   "id": "b6f80d3f",
   "metadata": {},
   "outputs": [],
   "source": [
    "from sklearn.model_selection import StratifiedKFold"
   ]
  },
  {
   "cell_type": "code",
   "execution_count": 80,
   "id": "076a86f3",
   "metadata": {},
   "outputs": [],
   "source": [
    "st = StratifiedKFold(n_splits=4)"
   ]
  },
  {
   "cell_type": "code",
   "execution_count": 81,
   "id": "55fbb19e",
   "metadata": {},
   "outputs": [],
   "source": [
    "score2 = cross_val_score(xgb, x_new, y_new,cv=st)"
   ]
  },
  {
   "cell_type": "code",
   "execution_count": 82,
   "id": "e197236b",
   "metadata": {},
   "outputs": [
    {
     "data": {
      "text/plain": [
       "array([0.97866075, 0.97754524, 0.97774837, 0.97740514])"
      ]
     },
     "execution_count": 82,
     "metadata": {},
     "output_type": "execute_result"
    }
   ],
   "source": [
    "score2"
   ]
  },
  {
   "cell_type": "code",
   "execution_count": 83,
   "id": "08dc6e96",
   "metadata": {},
   "outputs": [
    {
     "data": {
      "text/plain": [
       "0.9786607533996017"
      ]
     },
     "execution_count": 83,
     "metadata": {},
     "output_type": "execute_result"
    }
   ],
   "source": [
    "score2.max()"
   ]
  },
  {
   "cell_type": "code",
   "execution_count": 84,
   "id": "24b58dc3",
   "metadata": {},
   "outputs": [
    {
     "data": {
      "text/plain": [
       "0.9774051358943556"
      ]
     },
     "execution_count": 84,
     "metadata": {},
     "output_type": "execute_result"
    }
   ],
   "source": [
    "score2.min()"
   ]
  },
  {
   "cell_type": "code",
   "execution_count": 85,
   "id": "f2011d64",
   "metadata": {},
   "outputs": [
    {
     "data": {
      "text/plain": [
       "0.9778398756605093"
      ]
     },
     "execution_count": 85,
     "metadata": {},
     "output_type": "execute_result"
    }
   ],
   "source": [
    "score2.mean()"
   ]
  },
  {
   "cell_type": "markdown",
   "id": "61af4f26",
   "metadata": {},
   "source": [
    "# Leave One Out Cross Validation"
   ]
  },
  {
   "cell_type": "code",
   "execution_count": 86,
   "id": "9a96184f",
   "metadata": {},
   "outputs": [],
   "source": [
    "from sklearn.model_selection import LeaveOneOut"
   ]
  },
  {
   "cell_type": "code",
   "execution_count": 87,
   "id": "56026e50",
   "metadata": {},
   "outputs": [],
   "source": [
    "le = LeaveOneOut()  "
   ]
  },
  {
   "cell_type": "code",
   "execution_count": null,
   "id": "37e4c49d",
   "metadata": {},
   "outputs": [],
   "source": [
    "result3 = cross_val_score(ada,x,y,cv=le)"
   ]
  },
  {
   "cell_type": "code",
   "execution_count": null,
   "id": "734095c7",
   "metadata": {},
   "outputs": [],
   "source": [
    "result3"
   ]
  },
  {
   "cell_type": "code",
   "execution_count": null,
   "id": "b69972e0",
   "metadata": {},
   "outputs": [],
   "source": [
    "result3.mean()"
   ]
  }
 ],
 "metadata": {
  "kernelspec": {
   "display_name": "Python 3 (ipykernel)",
   "language": "python",
   "name": "python3"
  },
  "language_info": {
   "codemirror_mode": {
    "name": "ipython",
    "version": 3
   },
   "file_extension": ".py",
   "mimetype": "text/x-python",
   "name": "python",
   "nbconvert_exporter": "python",
   "pygments_lexer": "ipython3",
   "version": "3.9.7"
  }
 },
 "nbformat": 4,
 "nbformat_minor": 5
}
